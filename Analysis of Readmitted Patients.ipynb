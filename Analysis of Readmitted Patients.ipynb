{
 "cells": [
  {
   "cell_type": "markdown",
   "metadata": {},
   "source": [
    "-----\n",
    "# Diabetes 130-US hospitals for years 1999-2008 Data Set"
   ]
  },
  {
   "cell_type": "markdown",
   "metadata": {},
   "source": [
    "Original source of the Diabetes Dataset:\n",
    "https://archive.ics.uci.edu/ml/datasets/Diabetes+130-US+hospitals+for+years+1999-2008"
   ]
  },
  {
   "cell_type": "markdown",
   "metadata": {},
   "source": [
    "-----\n",
    "## Content"
   ]
  },
  {
   "cell_type": "markdown",
   "metadata": {},
   "source": [
    "\n",
    "\n",
    "Data Set Information:\n",
    "\n",
    "The dataset represents 10 years (1999-2008) of clinical care at 130 US hospitals and integrated delivery networks. It includes over 50 features representing patient and hospital outcomes. Information was extracted from the database for encounters that satisfied the following criteria.\n",
    "\n",
    "(1) It is an inpatient encounter (a hospital admission).\n",
    "\n",
    "(2) It is a diabetic encounter, that is, one during which any kind of diabetes was entered to the system as a diagnosis.\n",
    "\n",
    "(3) The length of stay was at least 1 day and at most 14 days.\n",
    "\n",
    "(4) Laboratory tests were performed during the encounter.\n",
    "\n",
    "(5) Medications were administered during the encounter.\n",
    "\n",
    "The data contains such attributes as patient number, race, gender, age, admission type, time in hospital, medical specialty of admitting physician, number of lab test performed, HbA1c test result, diagnosis, number of medication, diabetic medications, number of outpatient, inpatient, and emergency visits in the year before the hospitalization, etc."
   ]
  },
  {
   "cell_type": "markdown",
   "metadata": {},
   "source": [
    "-----\n",
    "## Understanding the Problem"
   ]
  },
  {
   "cell_type": "markdown",
   "metadata": {},
   "source": [
    "#### Question: Predicting readmittance of patients\n"
   ]
  },
  {
   "cell_type": "markdown",
   "metadata": {},
   "source": [
    "---------\n",
    "## Loading Data "
   ]
  },
  {
   "cell_type": "code",
   "execution_count": 206,
   "metadata": {},
   "outputs": [],
   "source": [
    "import pandas as pd\n",
    "import numpy as np\n",
    "import seaborn as sns\n",
    "import math as math\n",
    "from sklearn.pipeline import Pipeline\n",
    "\n",
    "# Plotting imports and settings\n",
    "import matplotlib.pyplot as plt\n",
    "plt.style.use(\"ggplot\")\n",
    "import matplotlib as mpl\n",
    "mpl.rcParams['figure.figsize'] = (13, 8)\n",
    "\n",
    "# Metrics and useful imports\n",
    "from sklearn import datasets, linear_model\n",
    "from sklearn.metrics import mean_squared_error, mean_absolute_error, r2_score\n",
    "from sklearn.model_selection import train_test_split"
   ]
  },
  {
   "cell_type": "code",
   "execution_count": 207,
   "metadata": {},
   "outputs": [],
   "source": [
    "import os\n",
    "cwd = os.getcwd()"
   ]
  },
  {
   "cell_type": "markdown",
   "metadata": {
    "tags": []
   },
   "source": [
    "-------\n",
    "## Data Exploration"
   ]
  },
  {
   "cell_type": "code",
   "execution_count": 208,
   "metadata": {},
   "outputs": [
    {
     "data": {
      "text/html": [
       "<div>\n",
       "<style scoped>\n",
       "    .dataframe tbody tr th:only-of-type {\n",
       "        vertical-align: middle;\n",
       "    }\n",
       "\n",
       "    .dataframe tbody tr th {\n",
       "        vertical-align: top;\n",
       "    }\n",
       "\n",
       "    .dataframe thead th {\n",
       "        text-align: right;\n",
       "    }\n",
       "</style>\n",
       "<table border=\"1\" class=\"dataframe\">\n",
       "  <thead>\n",
       "    <tr style=\"text-align: right;\">\n",
       "      <th></th>\n",
       "      <th>encounter_id</th>\n",
       "      <th>patient_nbr</th>\n",
       "      <th>race</th>\n",
       "      <th>gender</th>\n",
       "      <th>age</th>\n",
       "      <th>weight</th>\n",
       "      <th>admission_type_id</th>\n",
       "      <th>discharge_disposition_id</th>\n",
       "      <th>admission_source_id</th>\n",
       "      <th>time_in_hospital</th>\n",
       "      <th>...</th>\n",
       "      <th>citoglipton</th>\n",
       "      <th>insulin</th>\n",
       "      <th>glyburide-metformin</th>\n",
       "      <th>glipizide-metformin</th>\n",
       "      <th>glimepiride-pioglitazone</th>\n",
       "      <th>metformin-rosiglitazone</th>\n",
       "      <th>metformin-pioglitazone</th>\n",
       "      <th>change</th>\n",
       "      <th>diabetesMed</th>\n",
       "      <th>readmitted</th>\n",
       "    </tr>\n",
       "  </thead>\n",
       "  <tbody>\n",
       "    <tr>\n",
       "      <th>0</th>\n",
       "      <td>2278392</td>\n",
       "      <td>8222157</td>\n",
       "      <td>Caucasian</td>\n",
       "      <td>Female</td>\n",
       "      <td>[0-10)</td>\n",
       "      <td>?</td>\n",
       "      <td>6</td>\n",
       "      <td>25</td>\n",
       "      <td>1</td>\n",
       "      <td>1</td>\n",
       "      <td>...</td>\n",
       "      <td>No</td>\n",
       "      <td>No</td>\n",
       "      <td>No</td>\n",
       "      <td>No</td>\n",
       "      <td>No</td>\n",
       "      <td>No</td>\n",
       "      <td>No</td>\n",
       "      <td>No</td>\n",
       "      <td>No</td>\n",
       "      <td>NO</td>\n",
       "    </tr>\n",
       "    <tr>\n",
       "      <th>1</th>\n",
       "      <td>149190</td>\n",
       "      <td>55629189</td>\n",
       "      <td>Caucasian</td>\n",
       "      <td>Female</td>\n",
       "      <td>[10-20)</td>\n",
       "      <td>?</td>\n",
       "      <td>1</td>\n",
       "      <td>1</td>\n",
       "      <td>7</td>\n",
       "      <td>3</td>\n",
       "      <td>...</td>\n",
       "      <td>No</td>\n",
       "      <td>Up</td>\n",
       "      <td>No</td>\n",
       "      <td>No</td>\n",
       "      <td>No</td>\n",
       "      <td>No</td>\n",
       "      <td>No</td>\n",
       "      <td>Ch</td>\n",
       "      <td>Yes</td>\n",
       "      <td>&gt;30</td>\n",
       "    </tr>\n",
       "    <tr>\n",
       "      <th>2</th>\n",
       "      <td>64410</td>\n",
       "      <td>86047875</td>\n",
       "      <td>AfricanAmerican</td>\n",
       "      <td>Female</td>\n",
       "      <td>[20-30)</td>\n",
       "      <td>?</td>\n",
       "      <td>1</td>\n",
       "      <td>1</td>\n",
       "      <td>7</td>\n",
       "      <td>2</td>\n",
       "      <td>...</td>\n",
       "      <td>No</td>\n",
       "      <td>No</td>\n",
       "      <td>No</td>\n",
       "      <td>No</td>\n",
       "      <td>No</td>\n",
       "      <td>No</td>\n",
       "      <td>No</td>\n",
       "      <td>No</td>\n",
       "      <td>Yes</td>\n",
       "      <td>NO</td>\n",
       "    </tr>\n",
       "    <tr>\n",
       "      <th>3</th>\n",
       "      <td>500364</td>\n",
       "      <td>82442376</td>\n",
       "      <td>Caucasian</td>\n",
       "      <td>Male</td>\n",
       "      <td>[30-40)</td>\n",
       "      <td>?</td>\n",
       "      <td>1</td>\n",
       "      <td>1</td>\n",
       "      <td>7</td>\n",
       "      <td>2</td>\n",
       "      <td>...</td>\n",
       "      <td>No</td>\n",
       "      <td>Up</td>\n",
       "      <td>No</td>\n",
       "      <td>No</td>\n",
       "      <td>No</td>\n",
       "      <td>No</td>\n",
       "      <td>No</td>\n",
       "      <td>Ch</td>\n",
       "      <td>Yes</td>\n",
       "      <td>NO</td>\n",
       "    </tr>\n",
       "    <tr>\n",
       "      <th>4</th>\n",
       "      <td>16680</td>\n",
       "      <td>42519267</td>\n",
       "      <td>Caucasian</td>\n",
       "      <td>Male</td>\n",
       "      <td>[40-50)</td>\n",
       "      <td>?</td>\n",
       "      <td>1</td>\n",
       "      <td>1</td>\n",
       "      <td>7</td>\n",
       "      <td>1</td>\n",
       "      <td>...</td>\n",
       "      <td>No</td>\n",
       "      <td>Steady</td>\n",
       "      <td>No</td>\n",
       "      <td>No</td>\n",
       "      <td>No</td>\n",
       "      <td>No</td>\n",
       "      <td>No</td>\n",
       "      <td>Ch</td>\n",
       "      <td>Yes</td>\n",
       "      <td>NO</td>\n",
       "    </tr>\n",
       "  </tbody>\n",
       "</table>\n",
       "<p>5 rows × 50 columns</p>\n",
       "</div>"
      ],
      "text/plain": [
       "   encounter_id  patient_nbr             race  gender      age weight  \\\n",
       "0       2278392      8222157        Caucasian  Female   [0-10)      ?   \n",
       "1        149190     55629189        Caucasian  Female  [10-20)      ?   \n",
       "2         64410     86047875  AfricanAmerican  Female  [20-30)      ?   \n",
       "3        500364     82442376        Caucasian    Male  [30-40)      ?   \n",
       "4         16680     42519267        Caucasian    Male  [40-50)      ?   \n",
       "\n",
       "   admission_type_id  discharge_disposition_id  admission_source_id  \\\n",
       "0                  6                        25                    1   \n",
       "1                  1                         1                    7   \n",
       "2                  1                         1                    7   \n",
       "3                  1                         1                    7   \n",
       "4                  1                         1                    7   \n",
       "\n",
       "   time_in_hospital  ... citoglipton insulin  glyburide-metformin  \\\n",
       "0                 1  ...          No      No                   No   \n",
       "1                 3  ...          No      Up                   No   \n",
       "2                 2  ...          No      No                   No   \n",
       "3                 2  ...          No      Up                   No   \n",
       "4                 1  ...          No  Steady                   No   \n",
       "\n",
       "   glipizide-metformin  glimepiride-pioglitazone  metformin-rosiglitazone  \\\n",
       "0                   No                        No                       No   \n",
       "1                   No                        No                       No   \n",
       "2                   No                        No                       No   \n",
       "3                   No                        No                       No   \n",
       "4                   No                        No                       No   \n",
       "\n",
       "   metformin-pioglitazone  change diabetesMed readmitted  \n",
       "0                      No      No          No         NO  \n",
       "1                      No      Ch         Yes        >30  \n",
       "2                      No      No         Yes         NO  \n",
       "3                      No      Ch         Yes         NO  \n",
       "4                      No      Ch         Yes         NO  \n",
       "\n",
       "[5 rows x 50 columns]"
      ]
     },
     "execution_count": 208,
     "metadata": {},
     "output_type": "execute_result"
    }
   ],
   "source": [
    "df1 = pd.read_csv(cwd + '/dataset_diabetes/diabetic_data.csv')\n",
    "df1.head()"
   ]
  },
  {
   "cell_type": "code",
   "execution_count": 209,
   "metadata": {},
   "outputs": [],
   "source": [
    "# Replacing '?' with Nan\n",
    "\n",
    "df1 = df1.replace('?',np.NaN).copy()"
   ]
  },
  {
   "cell_type": "code",
   "execution_count": 210,
   "metadata": {},
   "outputs": [
    {
     "name": "stdout",
     "output_type": "stream",
     "text": [
      " There are 101766 entries in the dataset.\n",
      " There are 71518 unique patients, the person addmitted the most was with patient_nbr: 88785891    40\n",
      "Name: patient_nbr, dtype: int64. \n"
     ]
    }
   ],
   "source": [
    "print(f' There are {len(df1)} entries in the dataset.')\n",
    "# 71,518 unique patient numbers\n",
    "\n",
    "print(f' There are {len(df1.patient_nbr.unique())} unique patients, the person addmitted the most was with patient_nbr:\\\n",
    " {df1.patient_nbr.value_counts().head(1)}. ')"
   ]
  },
  {
   "cell_type": "code",
   "execution_count": 211,
   "metadata": {},
   "outputs": [
    {
     "name": "stdout",
     "output_type": "stream",
     "text": [
      "<class 'pandas.core.frame.DataFrame'>\n",
      "RangeIndex: 101766 entries, 0 to 101765\n",
      "Data columns (total 50 columns):\n",
      " #   Column                    Non-Null Count   Dtype \n",
      "---  ------                    --------------   ----- \n",
      " 0   encounter_id              101766 non-null  int64 \n",
      " 1   patient_nbr               101766 non-null  int64 \n",
      " 2   race                      99493 non-null   object\n",
      " 3   gender                    101766 non-null  object\n",
      " 4   age                       101766 non-null  object\n",
      " 5   weight                    3197 non-null    object\n",
      " 6   admission_type_id         101766 non-null  int64 \n",
      " 7   discharge_disposition_id  101766 non-null  int64 \n",
      " 8   admission_source_id       101766 non-null  int64 \n",
      " 9   time_in_hospital          101766 non-null  int64 \n",
      " 10  payer_code                61510 non-null   object\n",
      " 11  medical_specialty         51817 non-null   object\n",
      " 12  num_lab_procedures        101766 non-null  int64 \n",
      " 13  num_procedures            101766 non-null  int64 \n",
      " 14  num_medications           101766 non-null  int64 \n",
      " 15  number_outpatient         101766 non-null  int64 \n",
      " 16  number_emergency          101766 non-null  int64 \n",
      " 17  number_inpatient          101766 non-null  int64 \n",
      " 18  diag_1                    101745 non-null  object\n",
      " 19  diag_2                    101408 non-null  object\n",
      " 20  diag_3                    100343 non-null  object\n",
      " 21  number_diagnoses          101766 non-null  int64 \n",
      " 22  max_glu_serum             101766 non-null  object\n",
      " 23  A1Cresult                 101766 non-null  object\n",
      " 24  metformin                 101766 non-null  object\n",
      " 25  repaglinide               101766 non-null  object\n",
      " 26  nateglinide               101766 non-null  object\n",
      " 27  chlorpropamide            101766 non-null  object\n",
      " 28  glimepiride               101766 non-null  object\n",
      " 29  acetohexamide             101766 non-null  object\n",
      " 30  glipizide                 101766 non-null  object\n",
      " 31  glyburide                 101766 non-null  object\n",
      " 32  tolbutamide               101766 non-null  object\n",
      " 33  pioglitazone              101766 non-null  object\n",
      " 34  rosiglitazone             101766 non-null  object\n",
      " 35  acarbose                  101766 non-null  object\n",
      " 36  miglitol                  101766 non-null  object\n",
      " 37  troglitazone              101766 non-null  object\n",
      " 38  tolazamide                101766 non-null  object\n",
      " 39  examide                   101766 non-null  object\n",
      " 40  citoglipton               101766 non-null  object\n",
      " 41  insulin                   101766 non-null  object\n",
      " 42  glyburide-metformin       101766 non-null  object\n",
      " 43  glipizide-metformin       101766 non-null  object\n",
      " 44  glimepiride-pioglitazone  101766 non-null  object\n",
      " 45  metformin-rosiglitazone   101766 non-null  object\n",
      " 46  metformin-pioglitazone    101766 non-null  object\n",
      " 47  change                    101766 non-null  object\n",
      " 48  diabetesMed               101766 non-null  object\n",
      " 49  readmitted                101766 non-null  object\n",
      "dtypes: int64(13), object(37)\n",
      "memory usage: 38.8+ MB\n"
     ]
    }
   ],
   "source": [
    "df1.info()"
   ]
  },
  {
   "cell_type": "code",
   "execution_count": 212,
   "metadata": {},
   "outputs": [
    {
     "data": {
      "text/plain": [
       "weight               96.858479\n",
       "medical_specialty    49.082208\n",
       "payer_code           39.557416\n",
       "race                  2.233555\n",
       "diag_3                1.398306\n",
       "diag_2                0.351787\n",
       "diag_1                0.020636\n",
       "encounter_id          0.000000\n",
       "tolazamide            0.000000\n",
       "glyburide             0.000000\n",
       "dtype: float64"
      ]
     },
     "execution_count": 212,
     "metadata": {},
     "output_type": "execute_result"
    }
   ],
   "source": [
    "# Looking for the percentage of missing data in columns\n",
    "\n",
    "(df1.isna().sum() * 100 /len(df1)).sort_values(ascending=False).head(10)"
   ]
  },
  {
   "cell_type": "markdown",
   "metadata": {},
   "source": [
    "-------"
   ]
  },
  {
   "cell_type": "code",
   "execution_count": 213,
   "metadata": {},
   "outputs": [
    {
     "data": {
      "text/plain": [
       "Index(['encounter_id', 'patient_nbr', 'race', 'gender', 'age', 'weight',\n",
       "       'admission_type_id', 'discharge_disposition_id', 'admission_source_id',\n",
       "       'time_in_hospital', 'payer_code', 'medical_specialty',\n",
       "       'num_lab_procedures', 'num_procedures', 'num_medications',\n",
       "       'number_outpatient', 'number_emergency', 'number_inpatient', 'diag_1',\n",
       "       'diag_2', 'diag_3', 'number_diagnoses', 'max_glu_serum', 'A1Cresult',\n",
       "       'metformin', 'repaglinide', 'nateglinide', 'chlorpropamide',\n",
       "       'glimepiride', 'acetohexamide', 'glipizide', 'glyburide', 'tolbutamide',\n",
       "       'pioglitazone', 'rosiglitazone', 'acarbose', 'miglitol', 'troglitazone',\n",
       "       'tolazamide', 'examide', 'citoglipton', 'insulin',\n",
       "       'glyburide-metformin', 'glipizide-metformin',\n",
       "       'glimepiride-pioglitazone', 'metformin-rosiglitazone',\n",
       "       'metformin-pioglitazone', 'change', 'diabetesMed', 'readmitted'],\n",
       "      dtype='object')"
      ]
     },
     "execution_count": 213,
     "metadata": {},
     "output_type": "execute_result"
    }
   ],
   "source": [
    "df1.columns"
   ]
  },
  {
   "cell_type": "code",
   "execution_count": 214,
   "metadata": {},
   "outputs": [],
   "source": [
    "# set column types\n",
    "num_attr = ['time_in_hospital',\n",
    "            'num_lab_procedures', 'num_procedures', 'num_medications',\n",
    "            'number_outpatient', 'number_emergency', 'number_inpatient','number_diagnoses',\n",
    "            ]\n",
    "\n",
    "cat_attr = [\n",
    "                'encounter_id','patient_nbr', 'race', 'gender', 'age', 'weight',\n",
    "               'admission_type_id', 'discharge_disposition_id', 'admission_source_id',\n",
    "                'payer_code', 'medical_specialty','diag_1','diag_2','diag_3','max_glu_serum',\n",
    "            'A1Cresult',\n",
    "       'metformin', 'repaglinide', 'nateglinide', 'chlorpropamide',\n",
    "       'glimepiride', 'acetohexamide', 'glipizide', 'glyburide', 'tolbutamide',\n",
    "       'pioglitazone', 'rosiglitazone', 'acarbose', 'miglitol', 'troglitazone',\n",
    "       'tolazamide', 'examide', 'citoglipton', 'insulin',\n",
    "       'glyburide-metformin', 'glipizide-metformin',\n",
    "       'glimepiride-pioglitazone', 'metformin-rosiglitazone',\n",
    "       'metformin-pioglitazone', 'change', 'diabetesMed',\n",
    "            ]\n",
    "\n",
    "target = ['readmitted']\n"
   ]
  },
  {
   "cell_type": "code",
   "execution_count": 215,
   "metadata": {},
   "outputs": [
    {
     "data": {
      "text/html": [
       "<div>\n",
       "<style scoped>\n",
       "    .dataframe tbody tr th:only-of-type {\n",
       "        vertical-align: middle;\n",
       "    }\n",
       "\n",
       "    .dataframe tbody tr th {\n",
       "        vertical-align: top;\n",
       "    }\n",
       "\n",
       "    .dataframe thead th {\n",
       "        text-align: right;\n",
       "    }\n",
       "</style>\n",
       "<table border=\"1\" class=\"dataframe\">\n",
       "  <thead>\n",
       "    <tr style=\"text-align: right;\">\n",
       "      <th></th>\n",
       "      <th>encounter_id</th>\n",
       "      <th>patient_nbr</th>\n",
       "      <th>race</th>\n",
       "      <th>gender</th>\n",
       "      <th>age</th>\n",
       "      <th>weight</th>\n",
       "      <th>admission_type_id</th>\n",
       "      <th>discharge_disposition_id</th>\n",
       "      <th>admission_source_id</th>\n",
       "      <th>time_in_hospital</th>\n",
       "      <th>...</th>\n",
       "      <th>citoglipton</th>\n",
       "      <th>insulin</th>\n",
       "      <th>glyburide-metformin</th>\n",
       "      <th>glipizide-metformin</th>\n",
       "      <th>glimepiride-pioglitazone</th>\n",
       "      <th>metformin-rosiglitazone</th>\n",
       "      <th>metformin-pioglitazone</th>\n",
       "      <th>change</th>\n",
       "      <th>diabetesMed</th>\n",
       "      <th>readmitted</th>\n",
       "    </tr>\n",
       "  </thead>\n",
       "  <tbody>\n",
       "    <tr>\n",
       "      <th>0</th>\n",
       "      <td>2278392</td>\n",
       "      <td>8222157</td>\n",
       "      <td>Caucasian</td>\n",
       "      <td>Female</td>\n",
       "      <td>[0-10)</td>\n",
       "      <td>NaN</td>\n",
       "      <td>6</td>\n",
       "      <td>25</td>\n",
       "      <td>1</td>\n",
       "      <td>1</td>\n",
       "      <td>...</td>\n",
       "      <td>No</td>\n",
       "      <td>No</td>\n",
       "      <td>No</td>\n",
       "      <td>No</td>\n",
       "      <td>No</td>\n",
       "      <td>No</td>\n",
       "      <td>No</td>\n",
       "      <td>No</td>\n",
       "      <td>No</td>\n",
       "      <td>NO</td>\n",
       "    </tr>\n",
       "    <tr>\n",
       "      <th>1</th>\n",
       "      <td>149190</td>\n",
       "      <td>55629189</td>\n",
       "      <td>Caucasian</td>\n",
       "      <td>Female</td>\n",
       "      <td>[10-20)</td>\n",
       "      <td>NaN</td>\n",
       "      <td>1</td>\n",
       "      <td>1</td>\n",
       "      <td>7</td>\n",
       "      <td>3</td>\n",
       "      <td>...</td>\n",
       "      <td>No</td>\n",
       "      <td>Up</td>\n",
       "      <td>No</td>\n",
       "      <td>No</td>\n",
       "      <td>No</td>\n",
       "      <td>No</td>\n",
       "      <td>No</td>\n",
       "      <td>Ch</td>\n",
       "      <td>Yes</td>\n",
       "      <td>&gt;30</td>\n",
       "    </tr>\n",
       "    <tr>\n",
       "      <th>2</th>\n",
       "      <td>64410</td>\n",
       "      <td>86047875</td>\n",
       "      <td>AfricanAmerican</td>\n",
       "      <td>Female</td>\n",
       "      <td>[20-30)</td>\n",
       "      <td>NaN</td>\n",
       "      <td>1</td>\n",
       "      <td>1</td>\n",
       "      <td>7</td>\n",
       "      <td>2</td>\n",
       "      <td>...</td>\n",
       "      <td>No</td>\n",
       "      <td>No</td>\n",
       "      <td>No</td>\n",
       "      <td>No</td>\n",
       "      <td>No</td>\n",
       "      <td>No</td>\n",
       "      <td>No</td>\n",
       "      <td>No</td>\n",
       "      <td>Yes</td>\n",
       "      <td>NO</td>\n",
       "    </tr>\n",
       "    <tr>\n",
       "      <th>3</th>\n",
       "      <td>500364</td>\n",
       "      <td>82442376</td>\n",
       "      <td>Caucasian</td>\n",
       "      <td>Male</td>\n",
       "      <td>[30-40)</td>\n",
       "      <td>NaN</td>\n",
       "      <td>1</td>\n",
       "      <td>1</td>\n",
       "      <td>7</td>\n",
       "      <td>2</td>\n",
       "      <td>...</td>\n",
       "      <td>No</td>\n",
       "      <td>Up</td>\n",
       "      <td>No</td>\n",
       "      <td>No</td>\n",
       "      <td>No</td>\n",
       "      <td>No</td>\n",
       "      <td>No</td>\n",
       "      <td>Ch</td>\n",
       "      <td>Yes</td>\n",
       "      <td>NO</td>\n",
       "    </tr>\n",
       "    <tr>\n",
       "      <th>4</th>\n",
       "      <td>16680</td>\n",
       "      <td>42519267</td>\n",
       "      <td>Caucasian</td>\n",
       "      <td>Male</td>\n",
       "      <td>[40-50)</td>\n",
       "      <td>NaN</td>\n",
       "      <td>1</td>\n",
       "      <td>1</td>\n",
       "      <td>7</td>\n",
       "      <td>1</td>\n",
       "      <td>...</td>\n",
       "      <td>No</td>\n",
       "      <td>Steady</td>\n",
       "      <td>No</td>\n",
       "      <td>No</td>\n",
       "      <td>No</td>\n",
       "      <td>No</td>\n",
       "      <td>No</td>\n",
       "      <td>Ch</td>\n",
       "      <td>Yes</td>\n",
       "      <td>NO</td>\n",
       "    </tr>\n",
       "  </tbody>\n",
       "</table>\n",
       "<p>5 rows × 50 columns</p>\n",
       "</div>"
      ],
      "text/plain": [
       "   encounter_id  patient_nbr             race  gender      age weight  \\\n",
       "0       2278392      8222157        Caucasian  Female   [0-10)    NaN   \n",
       "1        149190     55629189        Caucasian  Female  [10-20)    NaN   \n",
       "2         64410     86047875  AfricanAmerican  Female  [20-30)    NaN   \n",
       "3        500364     82442376        Caucasian    Male  [30-40)    NaN   \n",
       "4         16680     42519267        Caucasian    Male  [40-50)    NaN   \n",
       "\n",
       "   admission_type_id  discharge_disposition_id  admission_source_id  \\\n",
       "0                  6                        25                    1   \n",
       "1                  1                         1                    7   \n",
       "2                  1                         1                    7   \n",
       "3                  1                         1                    7   \n",
       "4                  1                         1                    7   \n",
       "\n",
       "   time_in_hospital  ... citoglipton insulin  glyburide-metformin  \\\n",
       "0                 1  ...          No      No                   No   \n",
       "1                 3  ...          No      Up                   No   \n",
       "2                 2  ...          No      No                   No   \n",
       "3                 2  ...          No      Up                   No   \n",
       "4                 1  ...          No  Steady                   No   \n",
       "\n",
       "   glipizide-metformin  glimepiride-pioglitazone  metformin-rosiglitazone  \\\n",
       "0                   No                        No                       No   \n",
       "1                   No                        No                       No   \n",
       "2                   No                        No                       No   \n",
       "3                   No                        No                       No   \n",
       "4                   No                        No                       No   \n",
       "\n",
       "   metformin-pioglitazone  change diabetesMed readmitted  \n",
       "0                      No      No          No         NO  \n",
       "1                      No      Ch         Yes        >30  \n",
       "2                      No      No         Yes         NO  \n",
       "3                      No      Ch         Yes         NO  \n",
       "4                      No      Ch         Yes         NO  \n",
       "\n",
       "[5 rows x 50 columns]"
      ]
     },
     "execution_count": 215,
     "metadata": {},
     "output_type": "execute_result"
    }
   ],
   "source": [
    "df1.head()"
   ]
  },
  {
   "cell_type": "markdown",
   "metadata": {},
   "source": [
    "-----\n",
    "## Visualize Data"
   ]
  },
  {
   "cell_type": "code",
   "execution_count": 216,
   "metadata": {},
   "outputs": [
    {
     "data": {
      "text/plain": [
       "<AxesSubplot:title={'center':'Age Distribution of Patients Admitted'}, xlabel='age', ylabel='count'>"
      ]
     },
     "execution_count": 216,
     "metadata": {},
     "output_type": "execute_result"
    },
    {
     "data": {
      "image/png": "[encoded data removed]",
      "text/plain": [
       "<Figure size 936x576 with 1 Axes>"
      ]
     },
     "metadata": {},
     "output_type": "display_data"
    }
   ],
   "source": [
    "# plt.bar(\n",
    "#         df1['age'].value_counts().index,\n",
    "#         height=df1['age'].value_counts().values,\n",
    "#         ),\n",
    "plt.title('Age Distribution of Patients Admitted')\n",
    "plt.xticks(rotation=45)\n",
    "plt.xlabel('Age Group')\n",
    "plt.ylabel('Frequency')\n",
    "sns.countplot(x='age',data=df1)"
   ]
  },
  {
   "cell_type": "code",
   "execution_count": 217,
   "metadata": {},
   "outputs": [
    {
     "data": {
      "text/plain": [
       "Text(0, 0.5, 'Frequency')"
      ]
     },
     "execution_count": 217,
     "metadata": {},
     "output_type": "execute_result"
    },
    {
     "data": {
      "image/png": "[encoded data removed]",
      "text/plain": [
       "<Figure size 936x576 with 1 Axes>"
      ]
     },
     "metadata": {},
     "output_type": "display_data"
    }
   ],
   "source": [
    "# Number of males and females in the dataset\n",
    "\n",
    "plt.bar(\n",
    "        df1['gender'].value_counts().index,\n",
    "        height=df1['gender'].value_counts().values,\n",
    "        ),\n",
    "plt.xticks(rotation=45)\n",
    "\n",
    "plt.title('Gender Distribution of Patients Admitted')\n",
    "plt.xlabel('Gender')\n",
    "plt.ylabel('Frequency')\n",
    "\n",
    "\n",
    "#plt.savefig('Gender Dist.png')"
   ]
  },
  {
   "cell_type": "code",
   "execution_count": 218,
   "metadata": {},
   "outputs": [
    {
     "data": {
      "image/png": "[encoded data removed]",
      "text/plain": [
       "<Figure size 936x576 with 1 Axes>"
      ]
     },
     "metadata": {},
     "output_type": "display_data"
    },
    {
     "name": "stdout",
     "output_type": "stream",
     "text": [
      "\n",
      " Number of values\n",
      "NO     54864\n",
      ">30    35545\n",
      "<30    11357\n",
      "Name: readmitted, dtype: int64\n",
      "\n",
      " Proportion of values\n",
      "NO     53.911916\n",
      ">30    34.928169\n",
      "<30    11.159916\n",
      "Name: readmitted, dtype: float64\n"
     ]
    }
   ],
   "source": [
    "# Readmitted patients\n",
    "\n",
    "sns.countplot(x = \"readmitted\", data = df1)\n",
    "plt.title(\"Distribution of Target Values\")\n",
    "plt.show()\n",
    "\n",
    "print(\"\\n Number of values\")\n",
    "print(df1.readmitted.value_counts())\n",
    "print(\"\\n Proportion of values\")\n",
    "print(df1.readmitted.value_counts(normalize = True)*100)\n"
   ]
  },
  {
   "cell_type": "code",
   "execution_count": 219,
   "metadata": {},
   "outputs": [
    {
     "data": {
      "image/png": "[encoded data removed]",
      "text/plain": [
       "<Figure size 936x576 with 1 Axes>"
      ]
     },
     "metadata": {},
     "output_type": "display_data"
    },
    {
     "name": "stdout",
     "output_type": "stream",
     "text": [
      "Proportion of Race\n",
      "Caucasian          76.486788\n",
      "AfricanAmerican    19.307891\n",
      "Hispanic            2.047380\n",
      "Other               1.513674\n",
      "Asian               0.644266\n",
      "Name: race, dtype: float64\n"
     ]
    }
   ],
   "source": [
    "# Race of the patients\n",
    "\n",
    "sns.countplot(x=df1.race, data = df1)\n",
    "plt.xticks(rotation=90)\n",
    "plt.title(\"Number of Race values\")\n",
    "plt.show()\n",
    "\n",
    "print(\"Proportion of Race\")\n",
    "print(df1.race.value_counts(normalize = True)*100)\n"
   ]
  },
  {
   "cell_type": "markdown",
   "metadata": {},
   "source": [
    "<!-- \n",
    "admission_type_id description\n",
    "1\tEmergency\n",
    "2\tUrgent\n",
    "3\tElective\n",
    "4\tNewborn\n",
    "5\tNot Available\n",
    "6\tNULL\n",
    "7\tTrauma Center\n",
    "8\tNot Mapped -->"
   ]
  },
  {
   "cell_type": "code",
   "execution_count": 220,
   "metadata": {},
   "outputs": [
    {
     "data": {
      "image/png": "[encoded data removed]",
      "text/plain": [
       "<Figure size 936x576 with 1 Axes>"
      ]
     },
     "metadata": {},
     "output_type": "display_data"
    },
    {
     "name": "stdout",
     "output_type": "stream",
     "text": [
      "Proportion of Admission Type\n",
      "1    53.053083\n",
      "3    18.541556\n",
      "2    18.159307\n",
      "6     5.199182\n",
      "5     4.701963\n",
      "8     0.314447\n",
      "7     0.020636\n",
      "4     0.009826\n",
      "Name: admission_type_id, dtype: float64\n"
     ]
    }
   ],
   "source": [
    "sns.countplot(x=df1.admission_type_id, data = df1)\n",
    "plt.xticks(rotation=90)\n",
    "plt.title(\"Admission Type\")\n",
    "plt.show()\n",
    "\n",
    "print(\"Proportion of Admission Type\")\n",
    "print(df1.admission_type_id.value_counts(normalize = True)*100)\n"
   ]
  },
  {
   "cell_type": "code",
   "execution_count": 221,
   "metadata": {},
   "outputs": [
    {
     "data": {
      "image/png": "[encoded data removed]",
      "text/plain": [
       "<Figure size 936x576 with 1 Axes>"
      ]
     },
     "metadata": {},
     "output_type": "display_data"
    },
    {
     "name": "stdout",
     "output_type": "stream",
     "text": [
      "-Distribution of Admission Types-\n",
      "Emergency        72470\n",
      "Elective         18869\n",
      "Trauma Center       21\n",
      "New Born            10\n",
      "Name: admission_type_id_lable, dtype: int64\n"
     ]
    }
   ],
   "source": [
    "lable = {1.0:\"Emergency\",\n",
    "          2.0:\"Emergency\",\n",
    "          3.0:\"Elective\",\n",
    "          4.0:\"New Born\",\n",
    "          5.0:np.nan,\n",
    "          6.0:np.nan,\n",
    "          7.0:\"Trauma Center\",\n",
    "          8.0:np.nan}\n",
    "\n",
    "df1['admission_type_id_lable'] = df1.admission_type_id.replace(lable)\n",
    "\n",
    "sns.countplot(x = \"admission_type_id_lable\", data = df1)\n",
    "plt.title(\"-Distribution of Admission IDs-\")\n",
    "plt.show()\n",
    "\n",
    "print(\"-Distribution of Admission Types-\")\n",
    "print(df1.admission_type_id_lable.value_counts())\n",
    "df1 = df1.drop(columns=['admission_type_id_lable'])\n"
   ]
  },
  {
   "cell_type": "code",
   "execution_count": 222,
   "metadata": {},
   "outputs": [],
   "source": [
    "## Investigate Correlation in Numeric Variables"
   ]
  },
  {
   "cell_type": "code",
   "execution_count": 223,
   "metadata": {},
   "outputs": [
    {
     "data": {
      "image/png": "[encoded data removed]",
      "text/plain": [
       "<Figure size 936x576 with 2 Axes>"
      ]
     },
     "metadata": {},
     "output_type": "display_data"
    }
   ],
   "source": [
    "# Investigate Correlation between Variables\n",
    "matrix = df1[num_attr].corr().round(2)\n",
    "\n",
    "sns.heatmap(matrix, annot=True)\n",
    "plt.show()\n"
   ]
  },
  {
   "cell_type": "code",
   "execution_count": 224,
   "metadata": {
    "scrolled": true
   },
   "outputs": [
    {
     "data": {
      "text/plain": [
       "array([[<AxesSubplot:title={'center':'time_in_hospital'}>,\n",
       "        <AxesSubplot:title={'center':'num_lab_procedures'}>,\n",
       "        <AxesSubplot:title={'center':'num_procedures'}>],\n",
       "       [<AxesSubplot:title={'center':'num_medications'}>,\n",
       "        <AxesSubplot:title={'center':'number_outpatient'}>,\n",
       "        <AxesSubplot:title={'center':'number_emergency'}>],\n",
       "       [<AxesSubplot:title={'center':'number_inpatient'}>,\n",
       "        <AxesSubplot:title={'center':'number_diagnoses'}>,\n",
       "        <AxesSubplot:>]], dtype=object)"
      ]
     },
     "execution_count": 224,
     "metadata": {},
     "output_type": "execute_result"
    },
    {
     "data": {
      "image/png": "[encoded data removed]",
      "text/plain": [
       "<Figure size 1440x1080 with 9 Axes>"
      ]
     },
     "metadata": {},
     "output_type": "display_data"
    }
   ],
   "source": [
    "# create histograms of numeric attributes\n",
    "df1[num_attr].hist(figsize=(20,15),bins=50)\n"
   ]
  },
  {
   "cell_type": "markdown",
   "metadata": {},
   "source": [
    "------"
   ]
  },
  {
   "cell_type": "markdown",
   "metadata": {},
   "source": [
    "## Scrub the data"
   ]
  },
  {
   "cell_type": "markdown",
   "metadata": {},
   "source": [
    "1. Drop column: weight \n",
    "2. Drop rows with missing values for: race\n",
    "3. Drop column: medical speciality of admitting physician\n",
    "4. Drop column: payer code\n",
    "5. Drop diag_1, fill in diag_2, diag_3 with nulls"
   ]
  },
  {
   "cell_type": "code",
   "execution_count": 225,
   "metadata": {},
   "outputs": [
    {
     "name": "stdout",
     "output_type": "stream",
     "text": [
      "<class 'pandas.core.frame.DataFrame'>\n",
      "RangeIndex: 101766 entries, 0 to 101765\n",
      "Data columns (total 50 columns):\n",
      " #   Column                    Non-Null Count   Dtype \n",
      "---  ------                    --------------   ----- \n",
      " 0   encounter_id              101766 non-null  int64 \n",
      " 1   patient_nbr               101766 non-null  int64 \n",
      " 2   race                      99493 non-null   object\n",
      " 3   gender                    101766 non-null  object\n",
      " 4   age                       101766 non-null  object\n",
      " 5   weight                    3197 non-null    object\n",
      " 6   admission_type_id         101766 non-null  int64 \n",
      " 7   discharge_disposition_id  101766 non-null  int64 \n",
      " 8   admission_source_id       101766 non-null  int64 \n",
      " 9   time_in_hospital          101766 non-null  int64 \n",
      " 10  payer_code                61510 non-null   object\n",
      " 11  medical_specialty         51817 non-null   object\n",
      " 12  num_lab_procedures        101766 non-null  int64 \n",
      " 13  num_procedures            101766 non-null  int64 \n",
      " 14  num_medications           101766 non-null  int64 \n",
      " 15  number_outpatient         101766 non-null  int64 \n",
      " 16  number_emergency          101766 non-null  int64 \n",
      " 17  number_inpatient          101766 non-null  int64 \n",
      " 18  diag_1                    101745 non-null  object\n",
      " 19  diag_2                    101408 non-null  object\n",
      " 20  diag_3                    100343 non-null  object\n",
      " 21  number_diagnoses          101766 non-null  int64 \n",
      " 22  max_glu_serum             101766 non-null  object\n",
      " 23  A1Cresult                 101766 non-null  object\n",
      " 24  metformin                 101766 non-null  object\n",
      " 25  repaglinide               101766 non-null  object\n",
      " 26  nateglinide               101766 non-null  object\n",
      " 27  chlorpropamide            101766 non-null  object\n",
      " 28  glimepiride               101766 non-null  object\n",
      " 29  acetohexamide             101766 non-null  object\n",
      " 30  glipizide                 101766 non-null  object\n",
      " 31  glyburide                 101766 non-null  object\n",
      " 32  tolbutamide               101766 non-null  object\n",
      " 33  pioglitazone              101766 non-null  object\n",
      " 34  rosiglitazone             101766 non-null  object\n",
      " 35  acarbose                  101766 non-null  object\n",
      " 36  miglitol                  101766 non-null  object\n",
      " 37  troglitazone              101766 non-null  object\n",
      " 38  tolazamide                101766 non-null  object\n",
      " 39  examide                   101766 non-null  object\n",
      " 40  citoglipton               101766 non-null  object\n",
      " 41  insulin                   101766 non-null  object\n",
      " 42  glyburide-metformin       101766 non-null  object\n",
      " 43  glipizide-metformin       101766 non-null  object\n",
      " 44  glimepiride-pioglitazone  101766 non-null  object\n",
      " 45  metformin-rosiglitazone   101766 non-null  object\n",
      " 46  metformin-pioglitazone    101766 non-null  object\n",
      " 47  change                    101766 non-null  object\n",
      " 48  diabetesMed               101766 non-null  object\n",
      " 49  readmitted                101766 non-null  object\n",
      "dtypes: int64(13), object(37)\n",
      "memory usage: 38.8+ MB\n"
     ]
    }
   ],
   "source": [
    "df1.info()"
   ]
  },
  {
   "cell_type": "code",
   "execution_count": 226,
   "metadata": {},
   "outputs": [
    {
     "data": {
      "text/plain": [
       "encounter_id                 0.00\n",
       "patient_nbr                  0.00\n",
       "race                         2.23\n",
       "gender                       0.00\n",
       "age                          0.00\n",
       "weight                      96.86\n",
       "admission_type_id            0.00\n",
       "discharge_disposition_id     0.00\n",
       "admission_source_id          0.00\n",
       "time_in_hospital             0.00\n",
       "payer_code                  39.56\n",
       "medical_specialty           49.08\n",
       "num_lab_procedures           0.00\n",
       "num_procedures               0.00\n",
       "num_medications              0.00\n",
       "number_outpatient            0.00\n",
       "number_emergency             0.00\n",
       "number_inpatient             0.00\n",
       "diag_1                       0.02\n",
       "diag_2                       0.35\n",
       "diag_3                       1.40\n",
       "number_diagnoses             0.00\n",
       "max_glu_serum                0.00\n",
       "A1Cresult                    0.00\n",
       "metformin                    0.00\n",
       "repaglinide                  0.00\n",
       "nateglinide                  0.00\n",
       "chlorpropamide               0.00\n",
       "glimepiride                  0.00\n",
       "acetohexamide                0.00\n",
       "glipizide                    0.00\n",
       "glyburide                    0.00\n",
       "tolbutamide                  0.00\n",
       "pioglitazone                 0.00\n",
       "rosiglitazone                0.00\n",
       "acarbose                     0.00\n",
       "miglitol                     0.00\n",
       "troglitazone                 0.00\n",
       "tolazamide                   0.00\n",
       "examide                      0.00\n",
       "citoglipton                  0.00\n",
       "insulin                      0.00\n",
       "glyburide-metformin          0.00\n",
       "glipizide-metformin          0.00\n",
       "glimepiride-pioglitazone     0.00\n",
       "metformin-rosiglitazone      0.00\n",
       "metformin-pioglitazone       0.00\n",
       "change                       0.00\n",
       "diabetesMed                  0.00\n",
       "readmitted                   0.00\n",
       "dtype: float64"
      ]
     },
     "execution_count": 226,
     "metadata": {},
     "output_type": "execute_result"
    }
   ],
   "source": [
    "(df1.isna().sum()/len(df1)*100).round(2)"
   ]
  },
  {
   "cell_type": "code",
   "execution_count": 227,
   "metadata": {},
   "outputs": [],
   "source": [
    "# Removing unnecessary columns/columns with high number of null values"
   ]
  },
  {
   "cell_type": "code",
   "execution_count": 228,
   "metadata": {},
   "outputs": [
    {
     "data": {
      "text/plain": [
       "Index(['race', 'gender', 'age', 'admission_type_id',\n",
       "       'discharge_disposition_id', 'admission_source_id', 'time_in_hospital',\n",
       "       'num_lab_procedures', 'num_procedures', 'num_medications',\n",
       "       'number_outpatient', 'number_emergency', 'number_inpatient', 'diag_1',\n",
       "       'diag_2', 'diag_3', 'number_diagnoses', 'max_glu_serum', 'A1Cresult',\n",
       "       'metformin', 'repaglinide', 'nateglinide', 'chlorpropamide',\n",
       "       'glimepiride', 'acetohexamide', 'glipizide', 'glyburide', 'tolbutamide',\n",
       "       'pioglitazone', 'rosiglitazone', 'acarbose', 'miglitol', 'troglitazone',\n",
       "       'tolazamide', 'examide', 'citoglipton', 'insulin',\n",
       "       'glyburide-metformin', 'glipizide-metformin',\n",
       "       'glimepiride-pioglitazone', 'metformin-rosiglitazone',\n",
       "       'metformin-pioglitazone', 'change', 'diabetesMed', 'readmitted'],\n",
       "      dtype='object')"
      ]
     },
     "execution_count": 228,
     "metadata": {},
     "output_type": "execute_result"
    }
   ],
   "source": [
    "cats_to_drop = ['encounter_id','patient_nbr','weight','medical_specialty','payer_code']\n",
    "df2 = df1.drop(columns=cats_to_drop)\n",
    "df2.columns"
   ]
  },
  {
   "cell_type": "code",
   "execution_count": 229,
   "metadata": {},
   "outputs": [
    {
     "data": {
      "text/plain": [
       "['race',\n",
       " 'gender',\n",
       " 'age',\n",
       " 'admission_type_id',\n",
       " 'discharge_disposition_id',\n",
       " 'admission_source_id',\n",
       " 'diag_1',\n",
       " 'diag_2',\n",
       " 'diag_3',\n",
       " 'max_glu_serum',\n",
       " 'A1Cresult',\n",
       " 'metformin',\n",
       " 'repaglinide',\n",
       " 'nateglinide',\n",
       " 'chlorpropamide',\n",
       " 'glimepiride',\n",
       " 'acetohexamide',\n",
       " 'glipizide',\n",
       " 'glyburide',\n",
       " 'tolbutamide',\n",
       " 'pioglitazone',\n",
       " 'rosiglitazone',\n",
       " 'acarbose',\n",
       " 'miglitol',\n",
       " 'troglitazone',\n",
       " 'tolazamide',\n",
       " 'examide',\n",
       " 'citoglipton',\n",
       " 'insulin',\n",
       " 'glyburide-metformin',\n",
       " 'glipizide-metformin',\n",
       " 'glimepiride-pioglitazone',\n",
       " 'metformin-rosiglitazone',\n",
       " 'metformin-pioglitazone',\n",
       " 'change',\n",
       " 'diabetesMed']"
      ]
     },
     "execution_count": 229,
     "metadata": {},
     "output_type": "execute_result"
    }
   ],
   "source": [
    "# drop cat attributes no longer being used.\n",
    "cat_attr = [x for x in cat_attr if x not in cats_to_drop]\n",
    "cat_attr"
   ]
  },
  {
   "cell_type": "code",
   "execution_count": 230,
   "metadata": {},
   "outputs": [
    {
     "data": {
      "text/plain": [
       "race                        2273\n",
       "gender                         0\n",
       "age                            0\n",
       "admission_type_id              0\n",
       "discharge_disposition_id       0\n",
       "admission_source_id            0\n",
       "time_in_hospital               0\n",
       "num_lab_procedures             0\n",
       "num_procedures                 0\n",
       "num_medications                0\n",
       "number_outpatient              0\n",
       "number_emergency               0\n",
       "number_inpatient               0\n",
       "diag_1                        21\n",
       "diag_2                       358\n",
       "diag_3                      1423\n",
       "number_diagnoses               0\n",
       "max_glu_serum                  0\n",
       "A1Cresult                      0\n",
       "metformin                      0\n",
       "repaglinide                    0\n",
       "nateglinide                    0\n",
       "chlorpropamide                 0\n",
       "glimepiride                    0\n",
       "acetohexamide                  0\n",
       "glipizide                      0\n",
       "glyburide                      0\n",
       "tolbutamide                    0\n",
       "pioglitazone                   0\n",
       "rosiglitazone                  0\n",
       "acarbose                       0\n",
       "miglitol                       0\n",
       "troglitazone                   0\n",
       "tolazamide                     0\n",
       "examide                        0\n",
       "citoglipton                    0\n",
       "insulin                        0\n",
       "glyburide-metformin            0\n",
       "glipizide-metformin            0\n",
       "glimepiride-pioglitazone       0\n",
       "metformin-rosiglitazone        0\n",
       "metformin-pioglitazone         0\n",
       "change                         0\n",
       "diabetesMed                    0\n",
       "readmitted                     0\n",
       "dtype: int64"
      ]
     },
     "execution_count": 230,
     "metadata": {},
     "output_type": "execute_result"
    }
   ],
   "source": [
    "df2.isna().sum()"
   ]
  },
  {
   "cell_type": "code",
   "execution_count": 231,
   "metadata": {},
   "outputs": [
    {
     "data": {
      "text/plain": [
       "Female    54708\n",
       "Male      47055\n",
       "Name: gender, dtype: int64"
      ]
     },
     "execution_count": 231,
     "metadata": {},
     "output_type": "execute_result"
    }
   ],
   "source": [
    "df2.drop(df2[df2['gender'] =='Unknown/Invalid'].index, inplace=True)\n",
    "df2['gender'].value_counts()"
   ]
  },
  {
   "cell_type": "code",
   "execution_count": 232,
   "metadata": {},
   "outputs": [],
   "source": [
    "# drop race and diag_1 where rows are missing values\n",
    "df3 = df2.dropna(axis=0,subset=['race','diag_1'])"
   ]
  },
  {
   "cell_type": "code",
   "execution_count": 233,
   "metadata": {},
   "outputs": [
    {
     "data": {
      "text/plain": [
       "race                           0\n",
       "gender                         0\n",
       "age                            0\n",
       "admission_type_id              0\n",
       "discharge_disposition_id       0\n",
       "admission_source_id            0\n",
       "time_in_hospital               0\n",
       "num_lab_procedures             0\n",
       "num_procedures                 0\n",
       "num_medications                0\n",
       "number_outpatient              0\n",
       "number_emergency               0\n",
       "number_inpatient               0\n",
       "diag_1                         0\n",
       "diag_2                       335\n",
       "diag_3                      1348\n",
       "number_diagnoses               0\n",
       "max_glu_serum                  0\n",
       "A1Cresult                      0\n",
       "metformin                      0\n",
       "repaglinide                    0\n",
       "nateglinide                    0\n",
       "chlorpropamide                 0\n",
       "glimepiride                    0\n",
       "acetohexamide                  0\n",
       "glipizide                      0\n",
       "glyburide                      0\n",
       "tolbutamide                    0\n",
       "pioglitazone                   0\n",
       "rosiglitazone                  0\n",
       "acarbose                       0\n",
       "miglitol                       0\n",
       "troglitazone                   0\n",
       "tolazamide                     0\n",
       "examide                        0\n",
       "citoglipton                    0\n",
       "insulin                        0\n",
       "glyburide-metformin            0\n",
       "glipizide-metformin            0\n",
       "glimepiride-pioglitazone       0\n",
       "metformin-rosiglitazone        0\n",
       "metformin-pioglitazone         0\n",
       "change                         0\n",
       "diabetesMed                    0\n",
       "readmitted                     0\n",
       "dtype: int64"
      ]
     },
     "execution_count": 233,
     "metadata": {},
     "output_type": "execute_result"
    }
   ],
   "source": [
    "df3.isna().sum()"
   ]
  },
  {
   "cell_type": "code",
   "execution_count": 234,
   "metadata": {
    "scrolled": true
   },
   "outputs": [
    {
     "data": {
      "text/html": [
       "<div>\n",
       "<style scoped>\n",
       "    .dataframe tbody tr th:only-of-type {\n",
       "        vertical-align: middle;\n",
       "    }\n",
       "\n",
       "    .dataframe tbody tr th {\n",
       "        vertical-align: top;\n",
       "    }\n",
       "\n",
       "    .dataframe thead th {\n",
       "        text-align: right;\n",
       "    }\n",
       "</style>\n",
       "<table border=\"1\" class=\"dataframe\">\n",
       "  <thead>\n",
       "    <tr style=\"text-align: right;\">\n",
       "      <th></th>\n",
       "      <th>race</th>\n",
       "      <th>gender</th>\n",
       "      <th>age</th>\n",
       "      <th>admission_type_id</th>\n",
       "      <th>discharge_disposition_id</th>\n",
       "      <th>admission_source_id</th>\n",
       "      <th>time_in_hospital</th>\n",
       "      <th>num_lab_procedures</th>\n",
       "      <th>num_procedures</th>\n",
       "      <th>num_medications</th>\n",
       "      <th>...</th>\n",
       "      <th>citoglipton</th>\n",
       "      <th>insulin</th>\n",
       "      <th>glyburide-metformin</th>\n",
       "      <th>glipizide-metformin</th>\n",
       "      <th>glimepiride-pioglitazone</th>\n",
       "      <th>metformin-rosiglitazone</th>\n",
       "      <th>metformin-pioglitazone</th>\n",
       "      <th>change</th>\n",
       "      <th>diabetesMed</th>\n",
       "      <th>readmitted</th>\n",
       "    </tr>\n",
       "  </thead>\n",
       "  <tbody>\n",
       "    <tr>\n",
       "      <th>0</th>\n",
       "      <td>Caucasian</td>\n",
       "      <td>Female</td>\n",
       "      <td>[0-10)</td>\n",
       "      <td>6</td>\n",
       "      <td>25</td>\n",
       "      <td>1</td>\n",
       "      <td>1</td>\n",
       "      <td>41</td>\n",
       "      <td>0</td>\n",
       "      <td>1</td>\n",
       "      <td>...</td>\n",
       "      <td>No</td>\n",
       "      <td>No</td>\n",
       "      <td>No</td>\n",
       "      <td>No</td>\n",
       "      <td>No</td>\n",
       "      <td>No</td>\n",
       "      <td>No</td>\n",
       "      <td>No</td>\n",
       "      <td>No</td>\n",
       "      <td>NO</td>\n",
       "    </tr>\n",
       "    <tr>\n",
       "      <th>1</th>\n",
       "      <td>Caucasian</td>\n",
       "      <td>Female</td>\n",
       "      <td>[10-20)</td>\n",
       "      <td>1</td>\n",
       "      <td>1</td>\n",
       "      <td>7</td>\n",
       "      <td>3</td>\n",
       "      <td>59</td>\n",
       "      <td>0</td>\n",
       "      <td>18</td>\n",
       "      <td>...</td>\n",
       "      <td>No</td>\n",
       "      <td>Up</td>\n",
       "      <td>No</td>\n",
       "      <td>No</td>\n",
       "      <td>No</td>\n",
       "      <td>No</td>\n",
       "      <td>No</td>\n",
       "      <td>Ch</td>\n",
       "      <td>Yes</td>\n",
       "      <td>&gt;30</td>\n",
       "    </tr>\n",
       "    <tr>\n",
       "      <th>2</th>\n",
       "      <td>AfricanAmerican</td>\n",
       "      <td>Female</td>\n",
       "      <td>[20-30)</td>\n",
       "      <td>1</td>\n",
       "      <td>1</td>\n",
       "      <td>7</td>\n",
       "      <td>2</td>\n",
       "      <td>11</td>\n",
       "      <td>5</td>\n",
       "      <td>13</td>\n",
       "      <td>...</td>\n",
       "      <td>No</td>\n",
       "      <td>No</td>\n",
       "      <td>No</td>\n",
       "      <td>No</td>\n",
       "      <td>No</td>\n",
       "      <td>No</td>\n",
       "      <td>No</td>\n",
       "      <td>No</td>\n",
       "      <td>Yes</td>\n",
       "      <td>NO</td>\n",
       "    </tr>\n",
       "    <tr>\n",
       "      <th>3</th>\n",
       "      <td>Caucasian</td>\n",
       "      <td>Male</td>\n",
       "      <td>[30-40)</td>\n",
       "      <td>1</td>\n",
       "      <td>1</td>\n",
       "      <td>7</td>\n",
       "      <td>2</td>\n",
       "      <td>44</td>\n",
       "      <td>1</td>\n",
       "      <td>16</td>\n",
       "      <td>...</td>\n",
       "      <td>No</td>\n",
       "      <td>Up</td>\n",
       "      <td>No</td>\n",
       "      <td>No</td>\n",
       "      <td>No</td>\n",
       "      <td>No</td>\n",
       "      <td>No</td>\n",
       "      <td>Ch</td>\n",
       "      <td>Yes</td>\n",
       "      <td>NO</td>\n",
       "    </tr>\n",
       "    <tr>\n",
       "      <th>4</th>\n",
       "      <td>Caucasian</td>\n",
       "      <td>Male</td>\n",
       "      <td>[40-50)</td>\n",
       "      <td>1</td>\n",
       "      <td>1</td>\n",
       "      <td>7</td>\n",
       "      <td>1</td>\n",
       "      <td>51</td>\n",
       "      <td>0</td>\n",
       "      <td>8</td>\n",
       "      <td>...</td>\n",
       "      <td>No</td>\n",
       "      <td>Steady</td>\n",
       "      <td>No</td>\n",
       "      <td>No</td>\n",
       "      <td>No</td>\n",
       "      <td>No</td>\n",
       "      <td>No</td>\n",
       "      <td>Ch</td>\n",
       "      <td>Yes</td>\n",
       "      <td>NO</td>\n",
       "    </tr>\n",
       "  </tbody>\n",
       "</table>\n",
       "<p>5 rows × 45 columns</p>\n",
       "</div>"
      ],
      "text/plain": [
       "              race  gender      age  admission_type_id  \\\n",
       "0        Caucasian  Female   [0-10)                  6   \n",
       "1        Caucasian  Female  [10-20)                  1   \n",
       "2  AfricanAmerican  Female  [20-30)                  1   \n",
       "3        Caucasian    Male  [30-40)                  1   \n",
       "4        Caucasian    Male  [40-50)                  1   \n",
       "\n",
       "   discharge_disposition_id  admission_source_id  time_in_hospital  \\\n",
       "0                        25                    1                 1   \n",
       "1                         1                    7                 3   \n",
       "2                         1                    7                 2   \n",
       "3                         1                    7                 2   \n",
       "4                         1                    7                 1   \n",
       "\n",
       "   num_lab_procedures  num_procedures  num_medications  ...  citoglipton  \\\n",
       "0                  41               0                1  ...           No   \n",
       "1                  59               0               18  ...           No   \n",
       "2                  11               5               13  ...           No   \n",
       "3                  44               1               16  ...           No   \n",
       "4                  51               0                8  ...           No   \n",
       "\n",
       "   insulin  glyburide-metformin glipizide-metformin glimepiride-pioglitazone  \\\n",
       "0       No                   No                  No                       No   \n",
       "1       Up                   No                  No                       No   \n",
       "2       No                   No                  No                       No   \n",
       "3       Up                   No                  No                       No   \n",
       "4   Steady                   No                  No                       No   \n",
       "\n",
       "  metformin-rosiglitazone  metformin-pioglitazone change diabetesMed  \\\n",
       "0                      No                      No     No          No   \n",
       "1                      No                      No     Ch         Yes   \n",
       "2                      No                      No     No         Yes   \n",
       "3                      No                      No     Ch         Yes   \n",
       "4                      No                      No     Ch         Yes   \n",
       "\n",
       "  readmitted  \n",
       "0         NO  \n",
       "1        >30  \n",
       "2         NO  \n",
       "3         NO  \n",
       "4         NO  \n",
       "\n",
       "[5 rows x 45 columns]"
      ]
     },
     "execution_count": 234,
     "metadata": {},
     "output_type": "execute_result"
    }
   ],
   "source": [
    "df3.head()"
   ]
  },
  {
   "cell_type": "code",
   "execution_count": 235,
   "metadata": {},
   "outputs": [
    {
     "data": {
      "text/plain": [
       "428    6.774703\n",
       "414    6.439938\n",
       "786    3.958863\n",
       "410    3.536638\n",
       "486    3.443145\n",
       "         ...   \n",
       "216    0.001005\n",
       "V43    0.001005\n",
       "838    0.001005\n",
       "955    0.001005\n",
       "V51    0.001005\n",
       "Name: diag_1, Length: 714, dtype: float64"
      ]
     },
     "execution_count": 235,
     "metadata": {},
     "output_type": "execute_result"
    }
   ],
   "source": [
    "# get top 5 diagnosis codes\n",
    "df3['diag_1'].value_counts(ascending=False)*100/len(df3)"
   ]
  },
  {
   "cell_type": "code",
   "execution_count": 236,
   "metadata": {},
   "outputs": [],
   "source": [
    "# Taking the top 5 diagnosis codes and filling all other codes with 'Other'\n",
    "def diag_1_c(x):\n",
    "    if x in ['428','414','786','410','486']:\n",
    "        return x\n",
    "    else:\n",
    "        return 'Other'"
   ]
  },
  {
   "cell_type": "code",
   "execution_count": 237,
   "metadata": {},
   "outputs": [
    {
     "data": {
      "text/plain": [
       "'Other'"
      ]
     },
     "execution_count": 237,
     "metadata": {},
     "output_type": "execute_result"
    }
   ],
   "source": [
    "diag_1_c('438')"
   ]
  },
  {
   "cell_type": "code",
   "execution_count": 238,
   "metadata": {},
   "outputs": [
    {
     "name": "stderr",
     "output_type": "stream",
     "text": [
      "/opt/anaconda3/lib/python3.7/site-packages/ipykernel_launcher.py:1: SettingWithCopyWarning: \n",
      "A value is trying to be set on a copy of a slice from a DataFrame.\n",
      "Try using .loc[row_indexer,col_indexer] = value instead\n",
      "\n",
      "See the caveats in the documentation: https://pandas.pydata.org/pandas-docs/stable/user_guide/indexing.html#returning-a-view-versus-a-copy\n",
      "  \"\"\"Entry point for launching an IPython kernel.\n"
     ]
    }
   ],
   "source": [
    "df3['diag_1_cat'] = df3['diag_1'].apply(diag_1_c).copy()"
   ]
  },
  {
   "cell_type": "code",
   "execution_count": 239,
   "metadata": {},
   "outputs": [
    {
     "data": {
      "text/plain": [
       "428    6739\n",
       "414    6406\n",
       "786    3938\n",
       "410    3518\n",
       "486    3425\n",
       "       ... \n",
       "216       1\n",
       "V43       1\n",
       "838       1\n",
       "955       1\n",
       "V51       1\n",
       "Name: diag_1, Length: 714, dtype: int64"
      ]
     },
     "execution_count": 239,
     "metadata": {},
     "output_type": "execute_result"
    }
   ],
   "source": [
    "df3['diag_1'].value_counts(ascending=False)"
   ]
  },
  {
   "cell_type": "code",
   "execution_count": 240,
   "metadata": {},
   "outputs": [
    {
     "data": {
      "text/plain": [
       "Other    75447\n",
       "428       6739\n",
       "414       6406\n",
       "786       3938\n",
       "410       3518\n",
       "486       3425\n",
       "Name: diag_1_cat, dtype: int64"
      ]
     },
     "execution_count": 240,
     "metadata": {},
     "output_type": "execute_result"
    }
   ],
   "source": [
    "df3['diag_1_cat'].value_counts(ascending=False)"
   ]
  },
  {
   "cell_type": "code",
   "execution_count": null,
   "metadata": {},
   "outputs": [],
   "source": []
  },
  {
   "cell_type": "code",
   "execution_count": 241,
   "metadata": {},
   "outputs": [],
   "source": [
    "def diag_2_3_c(x):\n",
    "    if x in ['428','414','786','410','486']:\n",
    "        return x\n",
    "    try:\n",
    "        if math.isnan(float(x)):\n",
    "            return 'Other'\n",
    "    except ValueError:\n",
    "        return 'Other'\n",
    "    return 'Other'"
   ]
  },
  {
   "cell_type": "code",
   "execution_count": 242,
   "metadata": {},
   "outputs": [
    {
     "data": {
      "text/plain": [
       "'Other'"
      ]
     },
     "execution_count": 242,
     "metadata": {},
     "output_type": "execute_result"
    }
   ],
   "source": [
    "diag_2_3_c('V45')"
   ]
  },
  {
   "cell_type": "code",
   "execution_count": 243,
   "metadata": {},
   "outputs": [
    {
     "name": "stderr",
     "output_type": "stream",
     "text": [
      "/opt/anaconda3/lib/python3.7/site-packages/ipykernel_launcher.py:1: SettingWithCopyWarning: \n",
      "A value is trying to be set on a copy of a slice from a DataFrame.\n",
      "Try using .loc[row_indexer,col_indexer] = value instead\n",
      "\n",
      "See the caveats in the documentation: https://pandas.pydata.org/pandas-docs/stable/user_guide/indexing.html#returning-a-view-versus-a-copy\n",
      "  \"\"\"Entry point for launching an IPython kernel.\n"
     ]
    }
   ],
   "source": [
    "df3['diag_2_cat'] = df3['diag_2'].apply(diag_2_3_c).copy()"
   ]
  },
  {
   "cell_type": "code",
   "execution_count": 244,
   "metadata": {},
   "outputs": [
    {
     "data": {
      "text/plain": [
       "Other    87858\n",
       "428       6522\n",
       "414       2575\n",
       "486       1349\n",
       "786        634\n",
       "410        535\n",
       "Name: diag_2_cat, dtype: int64"
      ]
     },
     "execution_count": 244,
     "metadata": {},
     "output_type": "execute_result"
    }
   ],
   "source": [
    "df3['diag_2_cat'].value_counts(ascending=False)"
   ]
  },
  {
   "cell_type": "code",
   "execution_count": 245,
   "metadata": {},
   "outputs": [
    {
     "name": "stderr",
     "output_type": "stream",
     "text": [
      "/opt/anaconda3/lib/python3.7/site-packages/ipykernel_launcher.py:1: SettingWithCopyWarning: \n",
      "A value is trying to be set on a copy of a slice from a DataFrame.\n",
      "Try using .loc[row_indexer,col_indexer] = value instead\n",
      "\n",
      "See the caveats in the documentation: https://pandas.pydata.org/pandas-docs/stable/user_guide/indexing.html#returning-a-view-versus-a-copy\n",
      "  \"\"\"Entry point for launching an IPython kernel.\n"
     ]
    }
   ],
   "source": [
    "df3['diag_3_cat'] = df3['diag_3'].apply(diag_2_3_c).copy()"
   ]
  },
  {
   "cell_type": "code",
   "execution_count": 246,
   "metadata": {},
   "outputs": [
    {
     "data": {
      "text/plain": [
       "Other    90078\n",
       "428       4495\n",
       "414       3568\n",
       "786        573\n",
       "486        552\n",
       "410        207\n",
       "Name: diag_3_cat, dtype: int64"
      ]
     },
     "execution_count": 246,
     "metadata": {},
     "output_type": "execute_result"
    }
   ],
   "source": [
    "df3['diag_3_cat'].value_counts(ascending=False)"
   ]
  },
  {
   "cell_type": "code",
   "execution_count": 247,
   "metadata": {},
   "outputs": [],
   "source": [
    "\n",
    "df3 = df3.drop(columns=['diag_1','diag_2','diag_3'])"
   ]
  },
  {
   "cell_type": "code",
   "execution_count": 248,
   "metadata": {},
   "outputs": [
    {
     "data": {
      "text/plain": [
       "['race',\n",
       " 'gender',\n",
       " 'age',\n",
       " 'admission_type_id',\n",
       " 'discharge_disposition_id',\n",
       " 'admission_source_id',\n",
       " 'max_glu_serum',\n",
       " 'A1Cresult',\n",
       " 'metformin',\n",
       " 'repaglinide',\n",
       " 'nateglinide',\n",
       " 'chlorpropamide',\n",
       " 'glimepiride',\n",
       " 'acetohexamide',\n",
       " 'glipizide',\n",
       " 'glyburide',\n",
       " 'tolbutamide',\n",
       " 'pioglitazone',\n",
       " 'rosiglitazone',\n",
       " 'acarbose',\n",
       " 'miglitol',\n",
       " 'troglitazone',\n",
       " 'tolazamide',\n",
       " 'examide',\n",
       " 'citoglipton',\n",
       " 'insulin',\n",
       " 'glyburide-metformin',\n",
       " 'glipizide-metformin',\n",
       " 'glimepiride-pioglitazone',\n",
       " 'metformin-rosiglitazone',\n",
       " 'metformin-pioglitazone',\n",
       " 'change',\n",
       " 'diabetesMed',\n",
       " 'diag_1_cat',\n",
       " 'diag_2_cat',\n",
       " 'diag_3_cat']"
      ]
     },
     "execution_count": 248,
     "metadata": {},
     "output_type": "execute_result"
    }
   ],
   "source": [
    "# update available cat_attrs\n",
    "cat_attr += ['diag_1_cat', 'diag_2_cat', 'diag_3_cat']\n",
    "\n",
    "# remove dropped cat_attr\n",
    "cat_attr = [x for x in cat_attr if x not in ['diag_1','diag_2','diag_3']]\n",
    "\n",
    "cat_attr"
   ]
  },
  {
   "cell_type": "code",
   "execution_count": 249,
   "metadata": {},
   "outputs": [],
   "source": [
    "# To be used in later data cleaning\n",
    "df4 = df3.copy()"
   ]
  },
  {
   "cell_type": "markdown",
   "metadata": {},
   "source": [
    "### Created a onehotcoder for categorical variables"
   ]
  },
  {
   "cell_type": "code",
   "execution_count": 174,
   "metadata": {},
   "outputs": [],
   "source": [
    "# convert integer variables to numbers\n",
    "df3[\n",
    "    ['admission_type_id', 'discharge_disposition_id', 'admission_source_id',  'max_glu_serum']\n",
    "] = df3[['admission_type_id', 'discharge_disposition_id', 'admission_source_id',  'max_glu_serum']].astype(str)"
   ]
  },
  {
   "cell_type": "code",
   "execution_count": 175,
   "metadata": {},
   "outputs": [],
   "source": [
    "one_hot = pd.get_dummies(df3[cat_attr])\n"
   ]
  },
  {
   "cell_type": "code",
   "execution_count": 176,
   "metadata": {},
   "outputs": [
    {
     "data": {
      "text/plain": [
       "Index(['race_AfricanAmerican', 'race_Asian', 'race_Caucasian', 'race_Hispanic',\n",
       "       'race_Other', 'gender_Female', 'gender_Male', 'age_[0-10)',\n",
       "       'age_[10-20)', 'age_[20-30)', 'age_[30-40)', 'age_[40-50)',\n",
       "       'age_[50-60)', 'age_[60-70)', 'age_[70-80)', 'age_[80-90)',\n",
       "       'age_[90-100)', 'admission_type_id_1', 'admission_type_id_2',\n",
       "       'admission_type_id_3', 'admission_type_id_4', 'admission_type_id_5',\n",
       "       'admission_type_id_6', 'admission_type_id_7', 'admission_type_id_8',\n",
       "       'discharge_disposition_id_1', 'discharge_disposition_id_10',\n",
       "       'discharge_disposition_id_11', 'discharge_disposition_id_12',\n",
       "       'discharge_disposition_id_13', 'discharge_disposition_id_14',\n",
       "       'discharge_disposition_id_15', 'discharge_disposition_id_16',\n",
       "       'discharge_disposition_id_17', 'discharge_disposition_id_18',\n",
       "       'discharge_disposition_id_19', 'discharge_disposition_id_2',\n",
       "       'discharge_disposition_id_20', 'discharge_disposition_id_22',\n",
       "       'discharge_disposition_id_23', 'discharge_disposition_id_24',\n",
       "       'discharge_disposition_id_25', 'discharge_disposition_id_27',\n",
       "       'discharge_disposition_id_28', 'discharge_disposition_id_3',\n",
       "       'discharge_disposition_id_4', 'discharge_disposition_id_5',\n",
       "       'discharge_disposition_id_6', 'discharge_disposition_id_7',\n",
       "       'discharge_disposition_id_8'],\n",
       "      dtype='object')"
      ]
     },
     "execution_count": 176,
     "metadata": {},
     "output_type": "execute_result"
    }
   ],
   "source": [
    "one_hot.columns[:50]"
   ]
  },
  {
   "cell_type": "code",
   "execution_count": 177,
   "metadata": {},
   "outputs": [
    {
     "data": {
      "text/plain": [
       "Index(['time_in_hospital', 'num_lab_procedures', 'num_procedures',\n",
       "       'num_medications', 'number_outpatient', 'number_emergency',\n",
       "       'number_inpatient', 'number_diagnoses', 'readmitted'],\n",
       "      dtype='object')"
      ]
     },
     "execution_count": 177,
     "metadata": {},
     "output_type": "execute_result"
    }
   ],
   "source": [
    "df3 = df3.drop(columns=cat_attr)\n",
    "df3.columns"
   ]
  },
  {
   "cell_type": "code",
   "execution_count": 178,
   "metadata": {},
   "outputs": [
    {
     "data": {
      "text/plain": [
       "Index(['time_in_hospital', 'num_lab_procedures', 'num_procedures',\n",
       "       'num_medications', 'number_outpatient', 'number_emergency',\n",
       "       'number_inpatient', 'number_diagnoses', 'readmitted',\n",
       "       'race_AfricanAmerican',\n",
       "       ...\n",
       "       'diag_2_cat_428', 'diag_2_cat_486', 'diag_2_cat_786',\n",
       "       'diag_2_cat_Other', 'diag_3_cat_410', 'diag_3_cat_414',\n",
       "       'diag_3_cat_428', 'diag_3_cat_486', 'diag_3_cat_786',\n",
       "       'diag_3_cat_Other'],\n",
       "      dtype='object', length=177)"
      ]
     },
     "execution_count": 178,
     "metadata": {},
     "output_type": "execute_result"
    }
   ],
   "source": [
    "df3 = df3.join(one_hot)\n",
    "df3.columns"
   ]
  },
  {
   "cell_type": "markdown",
   "metadata": {},
   "source": [
    "-----\n",
    "## Spliting the data into test and training sets"
   ]
  },
  {
   "cell_type": "code",
   "execution_count": 179,
   "metadata": {},
   "outputs": [],
   "source": [
    "from sklearn.model_selection import train_test_split\n",
    "train_set, test_set = train_test_split(df3, test_size=0.3, random_state=42)"
   ]
  },
  {
   "cell_type": "code",
   "execution_count": 180,
   "metadata": {},
   "outputs": [],
   "source": [
    "target = 'readmitted'\n",
    "features = list(train_set.columns)\n",
    "features = [f for f in features if f != target]"
   ]
  },
  {
   "cell_type": "code",
   "execution_count": 181,
   "metadata": {},
   "outputs": [],
   "source": [
    "# Train set\n",
    "X_tr = train_set[features]\n",
    "y_tr = train_set[[target]]\n",
    "\n",
    "# Test set\n",
    "X_te = test_set[features]\n",
    "y_te = test_set[[target]]"
   ]
  },
  {
   "cell_type": "code",
   "execution_count": 182,
   "metadata": {},
   "outputs": [
    {
     "data": {
      "text/html": [
       "<div>\n",
       "<style scoped>\n",
       "    .dataframe tbody tr th:only-of-type {\n",
       "        vertical-align: middle;\n",
       "    }\n",
       "\n",
       "    .dataframe tbody tr th {\n",
       "        vertical-align: top;\n",
       "    }\n",
       "\n",
       "    .dataframe thead th {\n",
       "        text-align: right;\n",
       "    }\n",
       "</style>\n",
       "<table border=\"1\" class=\"dataframe\">\n",
       "  <thead>\n",
       "    <tr style=\"text-align: right;\">\n",
       "      <th></th>\n",
       "      <th>time_in_hospital</th>\n",
       "      <th>num_lab_procedures</th>\n",
       "      <th>num_procedures</th>\n",
       "      <th>num_medications</th>\n",
       "      <th>number_outpatient</th>\n",
       "      <th>number_emergency</th>\n",
       "      <th>number_inpatient</th>\n",
       "      <th>number_diagnoses</th>\n",
       "      <th>readmitted</th>\n",
       "      <th>race_AfricanAmerican</th>\n",
       "      <th>...</th>\n",
       "      <th>diag_2_cat_428</th>\n",
       "      <th>diag_2_cat_486</th>\n",
       "      <th>diag_2_cat_786</th>\n",
       "      <th>diag_2_cat_Other</th>\n",
       "      <th>diag_3_cat_410</th>\n",
       "      <th>diag_3_cat_414</th>\n",
       "      <th>diag_3_cat_428</th>\n",
       "      <th>diag_3_cat_486</th>\n",
       "      <th>diag_3_cat_786</th>\n",
       "      <th>diag_3_cat_Other</th>\n",
       "    </tr>\n",
       "  </thead>\n",
       "  <tbody>\n",
       "    <tr>\n",
       "      <th>96087</th>\n",
       "      <td>1</td>\n",
       "      <td>53</td>\n",
       "      <td>1</td>\n",
       "      <td>11</td>\n",
       "      <td>2</td>\n",
       "      <td>1</td>\n",
       "      <td>3</td>\n",
       "      <td>6</td>\n",
       "      <td>&gt;30</td>\n",
       "      <td>0</td>\n",
       "      <td>...</td>\n",
       "      <td>0</td>\n",
       "      <td>0</td>\n",
       "      <td>0</td>\n",
       "      <td>1</td>\n",
       "      <td>0</td>\n",
       "      <td>0</td>\n",
       "      <td>0</td>\n",
       "      <td>0</td>\n",
       "      <td>0</td>\n",
       "      <td>1</td>\n",
       "    </tr>\n",
       "    <tr>\n",
       "      <th>58011</th>\n",
       "      <td>4</td>\n",
       "      <td>51</td>\n",
       "      <td>1</td>\n",
       "      <td>13</td>\n",
       "      <td>0</td>\n",
       "      <td>0</td>\n",
       "      <td>0</td>\n",
       "      <td>9</td>\n",
       "      <td>NO</td>\n",
       "      <td>0</td>\n",
       "      <td>...</td>\n",
       "      <td>0</td>\n",
       "      <td>0</td>\n",
       "      <td>0</td>\n",
       "      <td>1</td>\n",
       "      <td>0</td>\n",
       "      <td>0</td>\n",
       "      <td>0</td>\n",
       "      <td>0</td>\n",
       "      <td>0</td>\n",
       "      <td>1</td>\n",
       "    </tr>\n",
       "    <tr>\n",
       "      <th>2079</th>\n",
       "      <td>3</td>\n",
       "      <td>43</td>\n",
       "      <td>0</td>\n",
       "      <td>3</td>\n",
       "      <td>0</td>\n",
       "      <td>0</td>\n",
       "      <td>0</td>\n",
       "      <td>5</td>\n",
       "      <td>&gt;30</td>\n",
       "      <td>1</td>\n",
       "      <td>...</td>\n",
       "      <td>0</td>\n",
       "      <td>0</td>\n",
       "      <td>0</td>\n",
       "      <td>1</td>\n",
       "      <td>0</td>\n",
       "      <td>0</td>\n",
       "      <td>0</td>\n",
       "      <td>0</td>\n",
       "      <td>0</td>\n",
       "      <td>1</td>\n",
       "    </tr>\n",
       "    <tr>\n",
       "      <th>91024</th>\n",
       "      <td>3</td>\n",
       "      <td>2</td>\n",
       "      <td>0</td>\n",
       "      <td>10</td>\n",
       "      <td>0</td>\n",
       "      <td>0</td>\n",
       "      <td>0</td>\n",
       "      <td>9</td>\n",
       "      <td>NO</td>\n",
       "      <td>0</td>\n",
       "      <td>...</td>\n",
       "      <td>0</td>\n",
       "      <td>0</td>\n",
       "      <td>0</td>\n",
       "      <td>1</td>\n",
       "      <td>0</td>\n",
       "      <td>0</td>\n",
       "      <td>0</td>\n",
       "      <td>0</td>\n",
       "      <td>0</td>\n",
       "      <td>1</td>\n",
       "    </tr>\n",
       "    <tr>\n",
       "      <th>96877</th>\n",
       "      <td>2</td>\n",
       "      <td>44</td>\n",
       "      <td>0</td>\n",
       "      <td>34</td>\n",
       "      <td>0</td>\n",
       "      <td>0</td>\n",
       "      <td>0</td>\n",
       "      <td>9</td>\n",
       "      <td>NO</td>\n",
       "      <td>0</td>\n",
       "      <td>...</td>\n",
       "      <td>0</td>\n",
       "      <td>0</td>\n",
       "      <td>0</td>\n",
       "      <td>1</td>\n",
       "      <td>0</td>\n",
       "      <td>0</td>\n",
       "      <td>0</td>\n",
       "      <td>0</td>\n",
       "      <td>0</td>\n",
       "      <td>1</td>\n",
       "    </tr>\n",
       "  </tbody>\n",
       "</table>\n",
       "<p>5 rows × 177 columns</p>\n",
       "</div>"
      ],
      "text/plain": [
       "       time_in_hospital  num_lab_procedures  num_procedures  num_medications  \\\n",
       "96087                 1                  53               1               11   \n",
       "58011                 4                  51               1               13   \n",
       "2079                  3                  43               0                3   \n",
       "91024                 3                   2               0               10   \n",
       "96877                 2                  44               0               34   \n",
       "\n",
       "       number_outpatient  number_emergency  number_inpatient  \\\n",
       "96087                  2                 1                 3   \n",
       "58011                  0                 0                 0   \n",
       "2079                   0                 0                 0   \n",
       "91024                  0                 0                 0   \n",
       "96877                  0                 0                 0   \n",
       "\n",
       "       number_diagnoses readmitted  race_AfricanAmerican  ...  diag_2_cat_428  \\\n",
       "96087                 6        >30                     0  ...               0   \n",
       "58011                 9         NO                     0  ...               0   \n",
       "2079                  5        >30                     1  ...               0   \n",
       "91024                 9         NO                     0  ...               0   \n",
       "96877                 9         NO                     0  ...               0   \n",
       "\n",
       "       diag_2_cat_486  diag_2_cat_786  diag_2_cat_Other  diag_3_cat_410  \\\n",
       "96087               0               0                 1               0   \n",
       "58011               0               0                 1               0   \n",
       "2079                0               0                 1               0   \n",
       "91024               0               0                 1               0   \n",
       "96877               0               0                 1               0   \n",
       "\n",
       "       diag_3_cat_414  diag_3_cat_428  diag_3_cat_486  diag_3_cat_786  \\\n",
       "96087               0               0               0               0   \n",
       "58011               0               0               0               0   \n",
       "2079                0               0               0               0   \n",
       "91024               0               0               0               0   \n",
       "96877               0               0               0               0   \n",
       "\n",
       "       diag_3_cat_Other  \n",
       "96087                 1  \n",
       "58011                 1  \n",
       "2079                  1  \n",
       "91024                 1  \n",
       "96877                 1  \n",
       "\n",
       "[5 rows x 177 columns]"
      ]
     },
     "execution_count": 182,
     "metadata": {},
     "output_type": "execute_result"
    }
   ],
   "source": [
    "train_set.head()"
   ]
  },
  {
   "cell_type": "markdown",
   "metadata": {},
   "source": [
    "-----\n",
    "### Scaling numeric variables"
   ]
  },
  {
   "cell_type": "code",
   "execution_count": 183,
   "metadata": {},
   "outputs": [],
   "source": [
    "from sklearn.preprocessing import StandardScaler\n",
    "\n",
    "scaler = StandardScaler()\n",
    "X_tr = scaler.fit_transform(X_tr)\n",
    "X_te = scaler.transform(X_te)"
   ]
  },
  {
   "cell_type": "markdown",
   "metadata": {},
   "source": [
    "### Adjusting Targets to Binary"
   ]
  },
  {
   "cell_type": "code",
   "execution_count": 184,
   "metadata": {},
   "outputs": [],
   "source": [
    "y_train_no = (y_tr != 'NO').values.ravel()\n",
    "y_test_no = (y_te != 'NO').values.ravel()"
   ]
  },
  {
   "cell_type": "markdown",
   "metadata": {},
   "source": [
    "------------\n",
    "## Model"
   ]
  },
  {
   "cell_type": "markdown",
   "metadata": {},
   "source": [
    "#### Binary Classifier"
   ]
  },
  {
   "cell_type": "code",
   "execution_count": 185,
   "metadata": {},
   "outputs": [],
   "source": [
    "from sklearn.ensemble import RandomForestClassifier\n",
    "from sklearn.model_selection import cross_val_predict, cross_val_score,GridSearchCV\n",
    "from sklearn.metrics import roc_curve, roc_auc_score\n",
    "from sklearn.linear_model import SGDClassifier\n",
    "from sklearn.metrics import confusion_matrix \n",
    "from sklearn.metrics import accuracy_score, f1_score, precision_score, recall_score\n",
    "\n",
    "\n"
   ]
  },
  {
   "cell_type": "code",
   "execution_count": 186,
   "metadata": {},
   "outputs": [],
   "source": [
    "## consider removing\n",
    "def plot_roc_curve(fpr, tpr, label=None):\n",
    "    plt.plot(fpr, tpr, linewidth=4, label=label)\n",
    "    plt.plot([0, 1], [0, 1], 'k--')\n",
    "    plt.axis([0, 1, 0, 1])\n",
    "    plt.xlabel('False Positive Rate', fontsize=16)\n",
    "    plt.ylabel('True Positive Rate', fontsize=16)\n",
    "    plt.legend(loc=\"lower right\", fontsize=16)"
   ]
  },
  {
   "cell_type": "code",
   "execution_count": 187,
   "metadata": {},
   "outputs": [
    {
     "data": {
      "text/plain": [
       "SGDClassifier(max_iter=5, random_state=42, tol=-inf)"
      ]
     },
     "execution_count": 187,
     "metadata": {},
     "output_type": "execute_result"
    }
   ],
   "source": [
    "# fit the SGD\n",
    "sgd_clf = SGDClassifier(max_iter=5, tol=-np.inf, random_state=42)\n",
    "sgd_clf.fit(X_tr, y_train_no)"
   ]
  },
  {
   "cell_type": "code",
   "execution_count": 188,
   "metadata": {},
   "outputs": [],
   "source": [
    "# predict using training data\n",
    "y_train_pred = sgd_clf.predict(X_tr)"
   ]
  },
  {
   "cell_type": "code",
   "execution_count": 189,
   "metadata": {},
   "outputs": [
    {
     "data": {
      "text/plain": [
       "array([[25145, 12094],\n",
       "       [17226, 15166]])"
      ]
     },
     "execution_count": 189,
     "metadata": {},
     "output_type": "execute_result"
    }
   ],
   "source": [
    "\n",
    "confusion_matrix(y_train_no,y_train_pred)"
   ]
  },
  {
   "cell_type": "code",
   "execution_count": 190,
   "metadata": {},
   "outputs": [
    {
     "data": {
      "text/plain": [
       "array([0.5650769 , 0.57794054, 0.57794054])"
      ]
     },
     "execution_count": 190,
     "metadata": {},
     "output_type": "execute_result"
    }
   ],
   "source": [
    "# model is not very accurate\n",
    "cross_val_score(sgd_clf, X_tr, y_train_no, cv=3, scoring=\"accuracy\") "
   ]
  },
  {
   "cell_type": "markdown",
   "metadata": {},
   "source": [
    "## SGD - Tuning the Model"
   ]
  },
  {
   "cell_type": "code",
   "execution_count": 191,
   "metadata": {},
   "outputs": [
    {
     "data": {
      "text/plain": [
       "GridSearchCV(cv=3,\n",
       "             estimator=SGDClassifier(max_iter=5, random_state=42, tol=-inf),\n",
       "             param_grid=[{'alpha': [0.001, 0.01, 0.1, 1, 10, 100, 1000, 1000]}],\n",
       "             scoring='roc_auc')"
      ]
     },
     "execution_count": 191,
     "metadata": {},
     "output_type": "execute_result"
    }
   ],
   "source": [
    "param_grid = [{'alpha': [0.001,0.01,0.1,1,10,100,1000,1000],\n",
    "              }]\n",
    "grid_search_sgd = GridSearchCV(estimator=sgd_clf,param_grid=param_grid, cv=3,scoring = 'roc_auc',\n",
    ")\n",
    "grid_search_sgd.fit(X_tr, y_train_no)"
   ]
  },
  {
   "cell_type": "code",
   "execution_count": 192,
   "metadata": {},
   "outputs": [
    {
     "name": "stdout",
     "output_type": "stream",
     "text": [
      "{'alpha': 0.1}\n",
      "0.6802398636035029\n"
     ]
    }
   ],
   "source": [
    "# can improve model if using an alpha of 0.1\n",
    "print(grid_search_sgd.best_params_)\n",
    "print(grid_search_sgd.best_score_)"
   ]
  },
  {
   "cell_type": "code",
   "execution_count": 193,
   "metadata": {},
   "outputs": [
    {
     "name": "stdout",
     "output_type": "stream",
     "text": [
      "0.6256283090945647 0.5859690290984938 0.34240708478513354 0.6906295754026355\n"
     ]
    }
   ],
   "source": [
    "# retrying model using above parameters and test data\n",
    "sgd_clf = SGDClassifier(max_iter=5, tol=-np.inf, random_state=42,alpha=0.1)\n",
    "sgd_clf.fit(X_tr, y_train_no)\n",
    "\n",
    "y_hat = sgd_clf.predict(X_te)\n",
    "print(accuracy_score(y_hat, y_test_no), f1_score(y_hat, y_test_no, average='macro'), precision_score(y_hat, y_test_no), recall_score(y_hat, y_test_no))"
   ]
  },
  {
   "cell_type": "code",
   "execution_count": 194,
   "metadata": {},
   "outputs": [],
   "source": [
    "# PCA results got worse."
   ]
  },
  {
   "cell_type": "code",
   "execution_count": 195,
   "metadata": {},
   "outputs": [
    {
     "data": {
      "text/plain": [
       "(69631, 129)"
      ]
     },
     "execution_count": 195,
     "metadata": {},
     "output_type": "execute_result"
    }
   ],
   "source": [
    "from sklearn.decomposition import PCA\n",
    "pca = PCA(n_components=0.98)\n",
    "\n",
    "# Your code here\n",
    "X_train_pca = pca.fit_transform(X_tr)\n",
    "X_test_pca = pca.transform(X_te)\n",
    "X_train_pca.shape"
   ]
  },
  {
   "cell_type": "code",
   "execution_count": 196,
   "metadata": {},
   "outputs": [
    {
     "name": "stdout",
     "output_type": "stream",
     "text": [
      "0.6249581127270291 0.5859091062085195 0.344294425087108 0.687192118226601\n"
     ]
    }
   ],
   "source": [
    "from sklearn.metrics import accuracy_score, f1_score, precision_score, recall_score\n",
    "\n",
    "# from grid search above\n",
    "sgd_clf = SGDClassifier(max_iter=5, tol=-np.inf, random_state=42,alpha=0.1)\n",
    "sgd_clf.fit(X_train_pca, y_train_no)\n",
    "\n",
    "y_hat = sgd_clf.predict(X_test_pca)\n",
    "print(accuracy_score(y_hat, y_test_no), f1_score(y_hat, y_test_no, average='macro'),precision_score(y_hat, y_test_no), recall_score(y_hat, y_test_no))"
   ]
  },
  {
   "cell_type": "markdown",
   "metadata": {},
   "source": [
    "## Random Forest"
   ]
  },
  {
   "cell_type": "code",
   "execution_count": 197,
   "metadata": {},
   "outputs": [],
   "source": [
    "forest_clf = RandomForestClassifier(random_state=42, n_estimators=15)\n"
   ]
  },
  {
   "cell_type": "code",
   "execution_count": 198,
   "metadata": {},
   "outputs": [
    {
     "data": {
      "text/plain": [
       "array([0.60402395, 0.60607497, 0.60659199])"
      ]
     },
     "execution_count": 198,
     "metadata": {},
     "output_type": "execute_result"
    }
   ],
   "source": [
    "cross_val_score(forest_clf, X_tr, y_train_no, cv=3, scoring=\"accuracy\")"
   ]
  },
  {
   "cell_type": "code",
   "execution_count": 199,
   "metadata": {},
   "outputs": [
    {
     "data": {
      "text/plain": [
       "GridSearchCV(cv=3,\n",
       "             estimator=RandomForestClassifier(n_estimators=15, random_state=42),\n",
       "             param_grid=[{'n_estimators': [75, 100, 150, 200]}],\n",
       "             scoring='roc_auc')"
      ]
     },
     "execution_count": 199,
     "metadata": {},
     "output_type": "execute_result"
    }
   ],
   "source": [
    "param_grid = [{'n_estimators': [75,100,150,200],\n",
    "              }]\n",
    "grid_search_forest = GridSearchCV(estimator=forest_clf,param_grid=param_grid, cv=3,scoring = 'roc_auc',\n",
    ")\n",
    "grid_search_forest.fit(X_tr, y_train_no)"
   ]
  },
  {
   "cell_type": "code",
   "execution_count": 200,
   "metadata": {},
   "outputs": [
    {
     "name": "stdout",
     "output_type": "stream",
     "text": [
      "{'n_estimators': 200}\n",
      "0.6789570742338612\n"
     ]
    }
   ],
   "source": [
    "# can improve model if using n_estimators:\n",
    "\n",
    "print(grid_search_forest.best_params_)\n",
    "print(grid_search_forest.best_score_)"
   ]
  },
  {
   "cell_type": "code",
   "execution_count": 201,
   "metadata": {},
   "outputs": [
    {
     "data": {
      "text/plain": [
       "RandomForestClassifier(n_estimators=200, random_state=42)"
      ]
     },
     "execution_count": 201,
     "metadata": {},
     "output_type": "execute_result"
    }
   ],
   "source": [
    "forest_clf = RandomForestClassifier(random_state=42, n_estimators=200)\n",
    "forest_clf.fit(X_tr, y_train_no)"
   ]
  },
  {
   "cell_type": "code",
   "execution_count": 202,
   "metadata": {},
   "outputs": [],
   "source": [
    "y_hat = forest_clf.predict(X_te)"
   ]
  },
  {
   "cell_type": "code",
   "execution_count": 203,
   "metadata": {},
   "outputs": [
    {
     "name": "stdout",
     "output_type": "stream",
     "text": [
      "0.6342068225990215 0.6279826452664232 0.5468205574912892 0.6171554972964116\n"
     ]
    }
   ],
   "source": [
    "print(accuracy_score(y_hat, y_test_no), f1_score(y_hat, y_test_no, average='macro'), precision_score(y_hat, y_test_no), recall_score(y_hat, y_test_no))\n",
    "\n"
   ]
  },
  {
   "cell_type": "markdown",
   "metadata": {},
   "source": [
    "## Refining Data Cleaning"
   ]
  },
  {
   "cell_type": "code",
   "execution_count": 307,
   "metadata": {},
   "outputs": [],
   "source": [
    "df4 = df1.copy()\n",
    "\n",
    "#remove duplicate patient encounters and keep only first\n",
    "df4 = df4.sort_values(by=['patient_nbr','encounter_id'],ascending=True)\n",
    "df4 = df4.drop_duplicates(subset='patient_nbr',keep='first')\n",
    "                          \n",
    "# drop columns                       \n",
    "cats_to_drop = ['encounter_id','patient_nbr','weight','medical_specialty','payer_code']\n",
    "df4 = df4.drop(columns=cats_to_drop)"
   ]
  },
  {
   "cell_type": "code",
   "execution_count": 308,
   "metadata": {},
   "outputs": [],
   "source": [
    "df4.drop(df4[df4['gender'] =='Unknown/Invalid'].index, inplace=True)\n",
    "df4 = df4.dropna(axis=0,subset=['race','diag_1'])"
   ]
  },
  {
   "cell_type": "code",
   "execution_count": 309,
   "metadata": {},
   "outputs": [],
   "source": [
    "df4['diag_1_cat'] = df4['diag_1'].apply(diag_1_c).copy()\n",
    "df4['diag_2_cat'] = df4['diag_2'].apply(diag_2_3_c).copy()\n",
    "df4['diag_3_cat'] = df4['diag_3'].apply(diag_2_3_c).copy()\n",
    "\n",
    "df4 = df4.drop(columns=['diag_1','diag_2','diag_3'])"
   ]
  },
  {
   "cell_type": "code",
   "execution_count": 310,
   "metadata": {},
   "outputs": [],
   "source": [
    "# put into numeric\n",
    "age_dict = {'[70-80)':75,\n",
    "            '[60-70)':65, \n",
    "            '[50-60)':55, \n",
    "            '[80-90)':85, \n",
    "            '[40-50)':45, \n",
    "            '[30-40)':35,\n",
    "            '[90-100)':95, \n",
    "            '[20-30)':25, \n",
    "            '[10-20)':15, \n",
    "            '[0-10)':5}\n",
    "\n",
    "\n",
    "df4['age'] = df4['age'].apply(lambda x: age_dict[x])"
   ]
  },
  {
   "cell_type": "code",
   "execution_count": 311,
   "metadata": {},
   "outputs": [
    {
     "data": {
      "text/plain": [
       "0      66153\n",
       "70      1707\n",
       "200      952\n",
       "300      747\n",
       "Name: max_glu_serum, dtype: int64"
      ]
     },
     "execution_count": 311,
     "metadata": {},
     "output_type": "execute_result"
    }
   ],
   "source": [
    "# A blood sugar level less than 140 mg/dL (7.8 mmol/L) is normal. \n",
    "# A reading of more than 200 mg/dL (11.1 mmol/L) after two hours indicates diabetes. \n",
    "# A reading between 140 and 199 mg/dL (7.8 mmol/L and 11.0 mmol/L) indicates prediabetes.\n",
    "\n",
    "glu_dict = {'None':0, \n",
    "            'Norm':70, #upper bound is 140\n",
    "            '>200':200, \n",
    "            '>300':300}\n",
    "\n",
    "df4['max_glu_serum'] = df4['max_glu_serum'].apply(lambda x: glu_dict[x])\n",
    "df4['max_glu_serum'].value_counts()"
   ]
  },
  {
   "cell_type": "code",
   "execution_count": 312,
   "metadata": {},
   "outputs": [
    {
     "data": {
      "text/plain": [
       "0.00    56959\n",
       "8.00     6065\n",
       "2.85     3716\n",
       "7.00     2819\n",
       "Name: A1Cresult, dtype: int64"
      ]
     },
     "execution_count": 312,
     "metadata": {},
     "output_type": "execute_result"
    }
   ],
   "source": [
    "# A normal A1C level is below 5.7%, a level of 5.7% to 6.4% indicates prediabetes, \n",
    "# and a level of 6.5% or more indicates diabetes. Within the 5.7% to 6.4% prediabetes range, \n",
    "# the higher your A1C, the greater your risk is for developing type 2 diabetes.\n",
    "\n",
    "a1c_dict = {'None':0,\n",
    "            '>8':8,\n",
    "            'Norm':2.85,\n",
    "            '>7':7\n",
    "            }\n",
    "df4['A1Cresult'] = df4['A1Cresult'].apply(lambda x: a1c_dict[x])\n",
    "df4['A1Cresult'].value_counts()"
   ]
  },
  {
   "cell_type": "code",
   "execution_count": 313,
   "metadata": {},
   "outputs": [
    {
     "data": {
      "text/html": [
       "<div>\n",
       "<style scoped>\n",
       "    .dataframe tbody tr th:only-of-type {\n",
       "        vertical-align: middle;\n",
       "    }\n",
       "\n",
       "    .dataframe tbody tr th {\n",
       "        vertical-align: top;\n",
       "    }\n",
       "\n",
       "    .dataframe thead th {\n",
       "        text-align: right;\n",
       "    }\n",
       "</style>\n",
       "<table border=\"1\" class=\"dataframe\">\n",
       "  <thead>\n",
       "    <tr style=\"text-align: right;\">\n",
       "      <th></th>\n",
       "      <th>metformin</th>\n",
       "      <th>repaglinide</th>\n",
       "      <th>nateglinide</th>\n",
       "      <th>chlorpropamide</th>\n",
       "      <th>glimepiride</th>\n",
       "      <th>acetohexamide</th>\n",
       "      <th>glipizide</th>\n",
       "      <th>glyburide</th>\n",
       "      <th>tolbutamide</th>\n",
       "      <th>pioglitazone</th>\n",
       "      <th>...</th>\n",
       "      <th>troglitazone</th>\n",
       "      <th>tolazamide</th>\n",
       "      <th>examide</th>\n",
       "      <th>citoglipton</th>\n",
       "      <th>insulin</th>\n",
       "      <th>glyburide-metformin</th>\n",
       "      <th>glipizide-metformin</th>\n",
       "      <th>glimepiride-pioglitazone</th>\n",
       "      <th>metformin-rosiglitazone</th>\n",
       "      <th>metformin-pioglitazone</th>\n",
       "    </tr>\n",
       "  </thead>\n",
       "  <tbody>\n",
       "    <tr>\n",
       "      <th>4267</th>\n",
       "      <td>No Change</td>\n",
       "      <td>No Change</td>\n",
       "      <td>No Change</td>\n",
       "      <td>No Change</td>\n",
       "      <td>No Change</td>\n",
       "      <td>No Change</td>\n",
       "      <td>No Change</td>\n",
       "      <td>Change</td>\n",
       "      <td>No Change</td>\n",
       "      <td>No Change</td>\n",
       "      <td>...</td>\n",
       "      <td>No Change</td>\n",
       "      <td>No Change</td>\n",
       "      <td>No Change</td>\n",
       "      <td>No Change</td>\n",
       "      <td>No Change</td>\n",
       "      <td>No Change</td>\n",
       "      <td>No Change</td>\n",
       "      <td>No Change</td>\n",
       "      <td>No Change</td>\n",
       "      <td>No Change</td>\n",
       "    </tr>\n",
       "    <tr>\n",
       "      <th>5827</th>\n",
       "      <td>No Change</td>\n",
       "      <td>No Change</td>\n",
       "      <td>No Change</td>\n",
       "      <td>No Change</td>\n",
       "      <td>No Change</td>\n",
       "      <td>No Change</td>\n",
       "      <td>No Change</td>\n",
       "      <td>No Change</td>\n",
       "      <td>No Change</td>\n",
       "      <td>No Change</td>\n",
       "      <td>...</td>\n",
       "      <td>No Change</td>\n",
       "      <td>No Change</td>\n",
       "      <td>No Change</td>\n",
       "      <td>No Change</td>\n",
       "      <td>No Change</td>\n",
       "      <td>No Change</td>\n",
       "      <td>No Change</td>\n",
       "      <td>No Change</td>\n",
       "      <td>No Change</td>\n",
       "      <td>No Change</td>\n",
       "    </tr>\n",
       "    <tr>\n",
       "      <th>67608</th>\n",
       "      <td>No Change</td>\n",
       "      <td>No Change</td>\n",
       "      <td>No Change</td>\n",
       "      <td>No Change</td>\n",
       "      <td>No Change</td>\n",
       "      <td>No Change</td>\n",
       "      <td>No Change</td>\n",
       "      <td>No Change</td>\n",
       "      <td>No Change</td>\n",
       "      <td>No Change</td>\n",
       "      <td>...</td>\n",
       "      <td>No Change</td>\n",
       "      <td>No Change</td>\n",
       "      <td>No Change</td>\n",
       "      <td>No Change</td>\n",
       "      <td>No Change</td>\n",
       "      <td>No Change</td>\n",
       "      <td>No Change</td>\n",
       "      <td>No Change</td>\n",
       "      <td>No Change</td>\n",
       "      <td>No Change</td>\n",
       "    </tr>\n",
       "    <tr>\n",
       "      <th>17494</th>\n",
       "      <td>No Change</td>\n",
       "      <td>No Change</td>\n",
       "      <td>No Change</td>\n",
       "      <td>No Change</td>\n",
       "      <td>No Change</td>\n",
       "      <td>No Change</td>\n",
       "      <td>No Change</td>\n",
       "      <td>No Change</td>\n",
       "      <td>No Change</td>\n",
       "      <td>No Change</td>\n",
       "      <td>...</td>\n",
       "      <td>No Change</td>\n",
       "      <td>No Change</td>\n",
       "      <td>No Change</td>\n",
       "      <td>No Change</td>\n",
       "      <td>No Change</td>\n",
       "      <td>No Change</td>\n",
       "      <td>No Change</td>\n",
       "      <td>No Change</td>\n",
       "      <td>No Change</td>\n",
       "      <td>No Change</td>\n",
       "    </tr>\n",
       "    <tr>\n",
       "      <th>2270</th>\n",
       "      <td>No Change</td>\n",
       "      <td>No Change</td>\n",
       "      <td>No Change</td>\n",
       "      <td>No Change</td>\n",
       "      <td>No Change</td>\n",
       "      <td>No Change</td>\n",
       "      <td>No Change</td>\n",
       "      <td>No Change</td>\n",
       "      <td>No Change</td>\n",
       "      <td>No Change</td>\n",
       "      <td>...</td>\n",
       "      <td>No Change</td>\n",
       "      <td>No Change</td>\n",
       "      <td>No Change</td>\n",
       "      <td>No Change</td>\n",
       "      <td>No Change</td>\n",
       "      <td>No Change</td>\n",
       "      <td>No Change</td>\n",
       "      <td>No Change</td>\n",
       "      <td>No Change</td>\n",
       "      <td>No Change</td>\n",
       "    </tr>\n",
       "  </tbody>\n",
       "</table>\n",
       "<p>5 rows × 23 columns</p>\n",
       "</div>"
      ],
      "text/plain": [
       "       metformin repaglinide nateglinide chlorpropamide glimepiride  \\\n",
       "4267   No Change   No Change   No Change      No Change   No Change   \n",
       "5827   No Change   No Change   No Change      No Change   No Change   \n",
       "67608  No Change   No Change   No Change      No Change   No Change   \n",
       "17494  No Change   No Change   No Change      No Change   No Change   \n",
       "2270   No Change   No Change   No Change      No Change   No Change   \n",
       "\n",
       "      acetohexamide  glipizide  glyburide tolbutamide pioglitazone  ...  \\\n",
       "4267      No Change  No Change     Change   No Change    No Change  ...   \n",
       "5827      No Change  No Change  No Change   No Change    No Change  ...   \n",
       "67608     No Change  No Change  No Change   No Change    No Change  ...   \n",
       "17494     No Change  No Change  No Change   No Change    No Change  ...   \n",
       "2270      No Change  No Change  No Change   No Change    No Change  ...   \n",
       "\n",
       "      troglitazone tolazamide    examide citoglipton    insulin  \\\n",
       "4267     No Change  No Change  No Change   No Change  No Change   \n",
       "5827     No Change  No Change  No Change   No Change  No Change   \n",
       "67608    No Change  No Change  No Change   No Change  No Change   \n",
       "17494    No Change  No Change  No Change   No Change  No Change   \n",
       "2270     No Change  No Change  No Change   No Change  No Change   \n",
       "\n",
       "      glyburide-metformin glipizide-metformin glimepiride-pioglitazone  \\\n",
       "4267            No Change           No Change                No Change   \n",
       "5827            No Change           No Change                No Change   \n",
       "67608           No Change           No Change                No Change   \n",
       "17494           No Change           No Change                No Change   \n",
       "2270            No Change           No Change                No Change   \n",
       "\n",
       "      metformin-rosiglitazone metformin-pioglitazone  \n",
       "4267                No Change              No Change  \n",
       "5827                No Change              No Change  \n",
       "67608               No Change              No Change  \n",
       "17494               No Change              No Change  \n",
       "2270                No Change              No Change  \n",
       "\n",
       "[5 rows x 23 columns]"
      ]
     },
     "execution_count": 313,
     "metadata": {},
     "output_type": "execute_result"
    }
   ],
   "source": [
    "med_list = ['metformin',\n",
    " 'repaglinide',\n",
    " 'nateglinide',\n",
    " 'chlorpropamide',\n",
    " 'glimepiride',\n",
    " 'acetohexamide',\n",
    " 'glipizide',\n",
    " 'glyburide',\n",
    " 'tolbutamide',\n",
    " 'pioglitazone',\n",
    " 'rosiglitazone',\n",
    " 'acarbose',\n",
    " 'miglitol',\n",
    " 'troglitazone',\n",
    " 'tolazamide',\n",
    " 'examide',\n",
    " 'citoglipton',\n",
    " 'insulin',\n",
    " 'glyburide-metformin',\n",
    " 'glipizide-metformin',\n",
    " 'glimepiride-pioglitazone',\n",
    " 'metformin-rosiglitazone',\n",
    " 'metformin-pioglitazone',]\n",
    "\n",
    "med_dict = {'No':'No Change',\n",
    "            'Steady':'No Change',\n",
    "            'Up':'Change',\n",
    "            'Down':'Change'\n",
    "           }\n",
    "for column in med_list:\n",
    "    df4[column] = df4[column].apply(lambda x: med_dict[x])\n",
    "df4[med_list].head()"
   ]
  },
  {
   "cell_type": "code",
   "execution_count": 314,
   "metadata": {},
   "outputs": [
    {
     "data": {
      "text/plain": [
       "1    35588\n",
       "3    13589\n",
       "2    12421\n",
       "6     4522\n",
       "5     3122\n",
       "8      288\n",
       "7       20\n",
       "4        9\n",
       "Name: admission_type_id, dtype: int64"
      ]
     },
     "execution_count": 314,
     "metadata": {},
     "output_type": "execute_result"
    }
   ],
   "source": [
    "# remap admission\n",
    "admission_type_id_desc = {\n",
    "1:'Emergency',\n",
    "2:'Emergency', #Formerly Urgent\n",
    "3:'Elective',\n",
    "4:'Newborn',\n",
    "5:'Not Available',\n",
    "6:'Not Available', # formerly NULL\n",
    "7:'Emergency', # Formerly Trauma Center\n",
    "8:'Not Available'} # formerly Not Mapped\n",
    "df4.admission_type_id.value_counts()"
   ]
  },
  {
   "cell_type": "code",
   "execution_count": 315,
   "metadata": {},
   "outputs": [
    {
     "data": {
      "text/plain": [
       "Discharged    62991\n",
       "Unknown        3219\n",
       "Transfer       1824\n",
       "Expired        1057\n",
       "Outpatient      459\n",
       "Admitted          9\n",
       "Name: discharge_disposition_id, dtype: int64"
      ]
     },
     "execution_count": 315,
     "metadata": {},
     "output_type": "execute_result"
    }
   ],
   "source": [
    "dis_dict = {1:'Discharged',\n",
    "2:'Discharged',\n",
    "3:'Discharged',\n",
    "4:'Discharged',\n",
    "5:'Discharged',\n",
    "6:'Discharged',\n",
    "7:'Discharged',\n",
    "8:'Discharged',\n",
    "9:'Admitted',\n",
    "10:'Discharged',\n",
    "11:'Expired',\n",
    "12:'Outpatient',\n",
    "13:'Outpatient',\n",
    "14:'Outpatient',\n",
    "15:'Transfer',\n",
    "16:'Transfer',\n",
    "17:'Transfer',\n",
    "18:'Unknown',\n",
    "19:'Expired',\n",
    "20:'Expired',\n",
    "21:'Expired',\n",
    "22:'Transfer',\n",
    "23:'Transfer',\n",
    "24:'Transfer',\n",
    "25:'Unknown',\n",
    "26:'Unknown',\n",
    "30:'Transfer',\n",
    "27:'Transfer',\n",
    "28:'Transfer',\n",
    "29:'Transfer'}\n",
    "\n",
    "df4['discharge_disposition_id'] = df4['discharge_disposition_id'].apply(lambda x: dis_dict[x])\n",
    "df4['discharge_disposition_id'].value_counts()"
   ]
  },
  {
   "cell_type": "code",
   "execution_count": 316,
   "metadata": {},
   "outputs": [
    {
     "data": {
      "text/plain": [
       "Discharged    64484\n",
       "Transfer       4876\n",
       "Expired         155\n",
       "Admitted         39\n",
       "Outpatient        3\n",
       "Unknown           2\n",
       "Name: admission_source_id, dtype: int64"
      ]
     },
     "execution_count": 316,
     "metadata": {},
     "output_type": "execute_result"
    }
   ],
   "source": [
    "admis_source_desc = {\n",
    "    1:'Referral',\n",
    "2:'Referral',\n",
    "3:'Referral',\n",
    "4:'Transfer',\n",
    "5:'Transfer',\n",
    "6:'Transfer',\n",
    "7:'Emergency',\n",
    "8:'Emergency',\n",
    "9:'Unknown',\n",
    "10:'Transfer',\n",
    "11:'Newborn',\n",
    "12:'Newborn',\n",
    "13:'Newborn',\n",
    "14:'Newborn',\n",
    "15:'Unknown',\n",
    "17:'Unknown',\n",
    "18:'Transfer',\n",
    "19:'Readmit',\n",
    "20:'Unknown',\n",
    "21:'Unknown',\n",
    "22:'Transfer',\n",
    "23:'Newborn',\n",
    "24:'Newborn',\n",
    "25:'Transfer',\n",
    "26:'Transfer'}\n",
    "              \n",
    "\n",
    "df4['admission_source_id'] = df4['admission_source_id'].apply(lambda x: dis_dict[x])\n",
    "df4['admission_source_id'].value_counts()"
   ]
  },
  {
   "cell_type": "code",
   "execution_count": 317,
   "metadata": {},
   "outputs": [],
   "source": [
    "encoded = [\n",
    " 'max_glu_serum','A1Cresult','age']\n",
    "\n",
    "cat_attr2 = [x for x in cat_attr if x not in encoded]\n",
    "num_attr2 = num_attr + encoded"
   ]
  },
  {
   "cell_type": "code",
   "execution_count": 318,
   "metadata": {},
   "outputs": [
    {
     "data": {
      "text/plain": [
       "['race',\n",
       " 'gender',\n",
       " 'admission_type_id',\n",
       " 'discharge_disposition_id',\n",
       " 'admission_source_id',\n",
       " 'metformin',\n",
       " 'repaglinide',\n",
       " 'nateglinide',\n",
       " 'chlorpropamide',\n",
       " 'glimepiride',\n",
       " 'acetohexamide',\n",
       " 'glipizide',\n",
       " 'glyburide',\n",
       " 'tolbutamide',\n",
       " 'pioglitazone',\n",
       " 'rosiglitazone',\n",
       " 'acarbose',\n",
       " 'miglitol',\n",
       " 'troglitazone',\n",
       " 'tolazamide',\n",
       " 'examide',\n",
       " 'citoglipton',\n",
       " 'insulin',\n",
       " 'glyburide-metformin',\n",
       " 'glipizide-metformin',\n",
       " 'glimepiride-pioglitazone',\n",
       " 'metformin-rosiglitazone',\n",
       " 'metformin-pioglitazone',\n",
       " 'change',\n",
       " 'diabetesMed',\n",
       " 'diag_1_cat',\n",
       " 'diag_2_cat',\n",
       " 'diag_3_cat']"
      ]
     },
     "execution_count": 318,
     "metadata": {},
     "output_type": "execute_result"
    }
   ],
   "source": [
    "#### One Hot Encoding\n",
    "cat_attr2"
   ]
  },
  {
   "cell_type": "code",
   "execution_count": 319,
   "metadata": {},
   "outputs": [],
   "source": [
    "one_hot = pd.get_dummies(df4[cat_attr2])"
   ]
  },
  {
   "cell_type": "code",
   "execution_count": 320,
   "metadata": {},
   "outputs": [],
   "source": [
    "df4 = df4.drop(columns=cat_attr2)"
   ]
  },
  {
   "cell_type": "code",
   "execution_count": 321,
   "metadata": {},
   "outputs": [
    {
     "data": {
      "text/html": [
       "<div>\n",
       "<style scoped>\n",
       "    .dataframe tbody tr th:only-of-type {\n",
       "        vertical-align: middle;\n",
       "    }\n",
       "\n",
       "    .dataframe tbody tr th {\n",
       "        vertical-align: top;\n",
       "    }\n",
       "\n",
       "    .dataframe thead th {\n",
       "        text-align: right;\n",
       "    }\n",
       "</style>\n",
       "<table border=\"1\" class=\"dataframe\">\n",
       "  <thead>\n",
       "    <tr style=\"text-align: right;\">\n",
       "      <th></th>\n",
       "      <th>age</th>\n",
       "      <th>time_in_hospital</th>\n",
       "      <th>num_lab_procedures</th>\n",
       "      <th>num_procedures</th>\n",
       "      <th>num_medications</th>\n",
       "      <th>number_outpatient</th>\n",
       "      <th>number_emergency</th>\n",
       "      <th>number_inpatient</th>\n",
       "      <th>number_diagnoses</th>\n",
       "      <th>max_glu_serum</th>\n",
       "      <th>...</th>\n",
       "      <th>diag_2_cat_428</th>\n",
       "      <th>diag_2_cat_486</th>\n",
       "      <th>diag_2_cat_786</th>\n",
       "      <th>diag_2_cat_Other</th>\n",
       "      <th>diag_3_cat_410</th>\n",
       "      <th>diag_3_cat_414</th>\n",
       "      <th>diag_3_cat_428</th>\n",
       "      <th>diag_3_cat_486</th>\n",
       "      <th>diag_3_cat_786</th>\n",
       "      <th>diag_3_cat_Other</th>\n",
       "    </tr>\n",
       "  </thead>\n",
       "  <tbody>\n",
       "    <tr>\n",
       "      <th>4267</th>\n",
       "      <td>55</td>\n",
       "      <td>8</td>\n",
       "      <td>77</td>\n",
       "      <td>6</td>\n",
       "      <td>33</td>\n",
       "      <td>0</td>\n",
       "      <td>0</td>\n",
       "      <td>0</td>\n",
       "      <td>8</td>\n",
       "      <td>0</td>\n",
       "      <td>...</td>\n",
       "      <td>0</td>\n",
       "      <td>0</td>\n",
       "      <td>0</td>\n",
       "      <td>1</td>\n",
       "      <td>0</td>\n",
       "      <td>0</td>\n",
       "      <td>0</td>\n",
       "      <td>0</td>\n",
       "      <td>0</td>\n",
       "      <td>1</td>\n",
       "    </tr>\n",
       "    <tr>\n",
       "      <th>5827</th>\n",
       "      <td>55</td>\n",
       "      <td>2</td>\n",
       "      <td>49</td>\n",
       "      <td>1</td>\n",
       "      <td>11</td>\n",
       "      <td>0</td>\n",
       "      <td>0</td>\n",
       "      <td>0</td>\n",
       "      <td>3</td>\n",
       "      <td>0</td>\n",
       "      <td>...</td>\n",
       "      <td>0</td>\n",
       "      <td>0</td>\n",
       "      <td>0</td>\n",
       "      <td>1</td>\n",
       "      <td>0</td>\n",
       "      <td>0</td>\n",
       "      <td>0</td>\n",
       "      <td>0</td>\n",
       "      <td>0</td>\n",
       "      <td>1</td>\n",
       "    </tr>\n",
       "    <tr>\n",
       "      <th>67608</th>\n",
       "      <td>85</td>\n",
       "      <td>4</td>\n",
       "      <td>68</td>\n",
       "      <td>2</td>\n",
       "      <td>23</td>\n",
       "      <td>0</td>\n",
       "      <td>0</td>\n",
       "      <td>0</td>\n",
       "      <td>9</td>\n",
       "      <td>0</td>\n",
       "      <td>...</td>\n",
       "      <td>0</td>\n",
       "      <td>0</td>\n",
       "      <td>0</td>\n",
       "      <td>1</td>\n",
       "      <td>0</td>\n",
       "      <td>0</td>\n",
       "      <td>0</td>\n",
       "      <td>0</td>\n",
       "      <td>0</td>\n",
       "      <td>1</td>\n",
       "    </tr>\n",
       "    <tr>\n",
       "      <th>17494</th>\n",
       "      <td>85</td>\n",
       "      <td>3</td>\n",
       "      <td>46</td>\n",
       "      <td>0</td>\n",
       "      <td>20</td>\n",
       "      <td>0</td>\n",
       "      <td>0</td>\n",
       "      <td>0</td>\n",
       "      <td>9</td>\n",
       "      <td>0</td>\n",
       "      <td>...</td>\n",
       "      <td>0</td>\n",
       "      <td>0</td>\n",
       "      <td>0</td>\n",
       "      <td>1</td>\n",
       "      <td>0</td>\n",
       "      <td>0</td>\n",
       "      <td>0</td>\n",
       "      <td>0</td>\n",
       "      <td>0</td>\n",
       "      <td>1</td>\n",
       "    </tr>\n",
       "    <tr>\n",
       "      <th>2270</th>\n",
       "      <td>35</td>\n",
       "      <td>5</td>\n",
       "      <td>49</td>\n",
       "      <td>0</td>\n",
       "      <td>5</td>\n",
       "      <td>0</td>\n",
       "      <td>0</td>\n",
       "      <td>0</td>\n",
       "      <td>3</td>\n",
       "      <td>0</td>\n",
       "      <td>...</td>\n",
       "      <td>0</td>\n",
       "      <td>0</td>\n",
       "      <td>0</td>\n",
       "      <td>1</td>\n",
       "      <td>0</td>\n",
       "      <td>0</td>\n",
       "      <td>0</td>\n",
       "      <td>0</td>\n",
       "      <td>0</td>\n",
       "      <td>1</td>\n",
       "    </tr>\n",
       "  </tbody>\n",
       "</table>\n",
       "<p>5 rows × 90 columns</p>\n",
       "</div>"
      ],
      "text/plain": [
       "       age  time_in_hospital  num_lab_procedures  num_procedures  \\\n",
       "4267    55                 8                  77               6   \n",
       "5827    55                 2                  49               1   \n",
       "67608   85                 4                  68               2   \n",
       "17494   85                 3                  46               0   \n",
       "2270    35                 5                  49               0   \n",
       "\n",
       "       num_medications  number_outpatient  number_emergency  number_inpatient  \\\n",
       "4267                33                  0                 0                 0   \n",
       "5827                11                  0                 0                 0   \n",
       "67608               23                  0                 0                 0   \n",
       "17494               20                  0                 0                 0   \n",
       "2270                 5                  0                 0                 0   \n",
       "\n",
       "       number_diagnoses  max_glu_serum  ...  diag_2_cat_428 diag_2_cat_486  \\\n",
       "4267                  8              0  ...               0              0   \n",
       "5827                  3              0  ...               0              0   \n",
       "67608                 9              0  ...               0              0   \n",
       "17494                 9              0  ...               0              0   \n",
       "2270                  3              0  ...               0              0   \n",
       "\n",
       "       diag_2_cat_786  diag_2_cat_Other  diag_3_cat_410  diag_3_cat_414  \\\n",
       "4267                0                 1               0               0   \n",
       "5827                0                 1               0               0   \n",
       "67608               0                 1               0               0   \n",
       "17494               0                 1               0               0   \n",
       "2270                0                 1               0               0   \n",
       "\n",
       "       diag_3_cat_428  diag_3_cat_486  diag_3_cat_786  diag_3_cat_Other  \n",
       "4267                0               0               0                 1  \n",
       "5827                0               0               0                 1  \n",
       "67608               0               0               0                 1  \n",
       "17494               0               0               0                 1  \n",
       "2270                0               0               0                 1  \n",
       "\n",
       "[5 rows x 90 columns]"
      ]
     },
     "execution_count": 321,
     "metadata": {},
     "output_type": "execute_result"
    }
   ],
   "source": [
    "df4 = df4.join(one_hot)\n",
    "df4.head()"
   ]
  },
  {
   "cell_type": "code",
   "execution_count": 322,
   "metadata": {},
   "outputs": [],
   "source": [
    "#### Train Test Split"
   ]
  },
  {
   "cell_type": "code",
   "execution_count": 323,
   "metadata": {},
   "outputs": [],
   "source": [
    "train_set, test_set = train_test_split(df4, test_size=0.3, random_state=42)"
   ]
  },
  {
   "cell_type": "code",
   "execution_count": 324,
   "metadata": {},
   "outputs": [],
   "source": [
    "target = 'readmitted'\n",
    "features = list(train_set.columns)\n",
    "features = [f for f in features if f != target]"
   ]
  },
  {
   "cell_type": "code",
   "execution_count": 325,
   "metadata": {},
   "outputs": [],
   "source": [
    "from sklearn.preprocessing import StandardScaler\n",
    "\n",
    "scaler = StandardScaler()\n",
    "X_tr = scaler.fit_transform(X_tr)\n",
    "X_te = scaler.transform(X_te)"
   ]
  },
  {
   "cell_type": "code",
   "execution_count": 326,
   "metadata": {},
   "outputs": [],
   "source": [
    "### SGD"
   ]
  },
  {
   "cell_type": "code",
   "execution_count": 327,
   "metadata": {},
   "outputs": [],
   "source": [
    "\n",
    "y_train_no = (y_tr != 'NO').values.ravel()\n",
    "y_test_no = (y_te != 'NO').values.ravel()"
   ]
  },
  {
   "cell_type": "code",
   "execution_count": 328,
   "metadata": {},
   "outputs": [
    {
     "data": {
      "text/plain": [
       "GridSearchCV(cv=3,\n",
       "             estimator=SGDClassifier(alpha=0.1, max_iter=5, random_state=42,\n",
       "                                     tol=-inf),\n",
       "             param_grid=[{'alpha': [0.001, 0.01, 0.1, 1, 10, 100, 1000, 1000]}],\n",
       "             scoring='roc_auc')"
      ]
     },
     "execution_count": 328,
     "metadata": {},
     "output_type": "execute_result"
    }
   ],
   "source": [
    "param_grid = [{'alpha': [0.001,0.01,0.1,1,10,100,1000,1000],\n",
    "              }]\n",
    "grid_search_sgd = GridSearchCV(estimator=sgd_clf,param_grid=param_grid, cv=3,scoring = 'roc_auc',\n",
    ")\n",
    "grid_search_sgd.fit(X_tr, y_train_no)"
   ]
  },
  {
   "cell_type": "code",
   "execution_count": 329,
   "metadata": {},
   "outputs": [
    {
     "name": "stdout",
     "output_type": "stream",
     "text": [
      "{'alpha': 0.1}\n",
      "0.6802398636035029\n"
     ]
    }
   ],
   "source": [
    "# can improve model if using an alpha of 0.1\n",
    "print(grid_search_sgd.best_params_)\n",
    "print(grid_search_sgd.best_score_)"
   ]
  },
  {
   "cell_type": "code",
   "execution_count": 330,
   "metadata": {},
   "outputs": [
    {
     "name": "stdout",
     "output_type": "stream",
     "text": [
      "0.6256283090945647 0.5859690290984938 0.34240708478513354 0.6906295754026355\n"
     ]
    }
   ],
   "source": [
    "# from grid search above\n",
    "from sklearn.metrics import accuracy_score, f1_score, precision_score, recall_score\n",
    "sgd_clf = SGDClassifier(max_iter=5, tol=-np.inf, random_state=42,alpha=0.1)\n",
    "sgd_clf.fit(X_tr, y_train_no)\n",
    "\n",
    "y_hat = sgd_clf.predict(X_te)\n",
    "print(accuracy_score(y_hat, y_test_no), f1_score(y_hat, y_test_no, average='macro'), precision_score(y_hat, y_test_no), recall_score(y_hat, y_test_no))"
   ]
  },
  {
   "cell_type": "code",
   "execution_count": 331,
   "metadata": {},
   "outputs": [],
   "source": [
    "### Random Forest"
   ]
  },
  {
   "cell_type": "code",
   "execution_count": 332,
   "metadata": {},
   "outputs": [
    {
     "data": {
      "text/plain": [
       "GridSearchCV(cv=3, estimator=RandomForestClassifier(random_state=42),\n",
       "             param_grid=[{'max_depth': [5, 10, 15, 25],\n",
       "                          'n_estimators': [75, 100, 150, 200]}],\n",
       "             scoring='roc_auc')"
      ]
     },
     "execution_count": 332,
     "metadata": {},
     "output_type": "execute_result"
    }
   ],
   "source": [
    "from sklearn.ensemble import RandomForestClassifier\n",
    "\n",
    "forest_clf = RandomForestClassifier(random_state=42)\n",
    "\n",
    "param_grid = [{'n_estimators': [75,100,150,200],\n",
    "               'max_depth':[5,10,15,25],\n",
    "              }]\n",
    "grid_search_forest = GridSearchCV(estimator=forest_clf,param_grid=param_grid, cv=3,scoring = 'roc_auc',\n",
    ")\n",
    "grid_search_forest.fit(X_tr, y_train_no)"
   ]
  },
  {
   "cell_type": "code",
   "execution_count": 333,
   "metadata": {},
   "outputs": [
    {
     "name": "stdout",
     "output_type": "stream",
     "text": [
      "{'max_depth': 15, 'n_estimators': 200}\n",
      "0.6924237229984703\n"
     ]
    }
   ],
   "source": [
    "print(grid_search_forest.best_params_)\n",
    "print(grid_search_forest.best_score_)"
   ]
  },
  {
   "cell_type": "code",
   "execution_count": 334,
   "metadata": {},
   "outputs": [
    {
     "data": {
      "text/plain": [
       "RandomForestClassifier(max_depth=15, n_estimators=200, random_state=42)"
      ]
     },
     "execution_count": 334,
     "metadata": {},
     "output_type": "execute_result"
    }
   ],
   "source": [
    "forest_clf = RandomForestClassifier(random_state=42, n_estimators=200,max_depth=15)\n",
    "forest_clf.fit(X_tr, y_train_no)"
   ]
  },
  {
   "cell_type": "code",
   "execution_count": 335,
   "metadata": {},
   "outputs": [],
   "source": [
    "y_hat = forest_clf.predict(X_te)"
   ]
  },
  {
   "cell_type": "code",
   "execution_count": 336,
   "metadata": {},
   "outputs": [
    {
     "name": "stdout",
     "output_type": "stream",
     "text": [
      "\n",
      "    accuracy: 0.6424167281013337 f1: 0.6318532374207478\n",
      "    precision: 0.5123403019744484 recall: 0.6409953682680956\n"
     ]
    }
   ],
   "source": [
    "print(f'''\n",
    "    accuracy: {accuracy_score(y_hat, y_test_no)} f1: {f1_score(y_hat, y_test_no, average='macro')}\n",
    "    precision: {precision_score(y_hat, y_test_no)} recall: {recall_score(y_hat, y_test_no)}''')\n",
    "\n"
   ]
  },
  {
   "cell_type": "code",
   "execution_count": 337,
   "metadata": {},
   "outputs": [
    {
     "data": {
      "text/plain": [
       "0\n",
       "number_emergency                       17.209205\n",
       "num_procedures                          5.556241\n",
       "nateglinide_Change                      5.447477\n",
       "time_in_hospital                        5.069372\n",
       "number_inpatient                        4.930508\n",
       "number_outpatient                       4.791617\n",
       "num_medications                         4.239735\n",
       "age                                     3.622672\n",
       "num_lab_procedures                      2.544729\n",
       "diag_1_cat_428                          1.608162\n",
       "troglitazone_No Change                  1.136982\n",
       "repaglinide_Change                      0.980360\n",
       "discharge_disposition_id_Outpatient     0.965320\n",
       "admission_source_id_Expired             0.902223\n",
       "diag_1_cat_414                          0.825891\n",
       "A1Cresult                               0.822398\n",
       "race_Asian                              0.813856\n",
       "discharge_disposition_id_Transfer       0.808373\n",
       "race_Caucasian                          0.798489\n",
       "admission_source_id_Admitted            0.772575\n",
       "diag_2_cat_Other                        0.716884\n",
       "discharge_disposition_id_Discharged     0.716192\n",
       "acarbose_No Change                      0.715089\n",
       "diabetesMed_Yes                         0.713321\n",
       "diag_3_cat_428                          0.708715\n",
       "number_diagnoses                        0.706593\n",
       "discharge_disposition_id_Expired        0.697512\n",
       "admission_source_id_Discharged          0.697508\n",
       "insulin_Change                          0.696612\n",
       "admission_source_id_Unknown             0.655461\n",
       "diag_3_cat_486                          0.642746\n",
       "chlorpropamide_No Change                0.608815\n",
       "chlorpropamide_Change                   0.542416\n",
       "diag_2_cat_786                          0.535759\n",
       "discharge_disposition_id_Admitted       0.534219\n",
       "discharge_disposition_id_Unknown        0.484212\n",
       "diag_3_cat_410                          0.472741\n",
       "diag_2_cat_414                          0.444537\n",
       "glimepiride-pioglitazone_No Change      0.382105\n",
       "gender_Male                             0.376075\n",
       "admission_source_id_Transfer            0.371717\n",
       "diag_2_cat_486                          0.352574\n",
       "tolbutamide_No Change                   0.345683\n",
       "glipizide_Change                        0.334440\n",
       "admission_type_id                       0.305949\n",
       "glyburide_Change                        0.290289\n",
       "diag_2_cat_428                          0.285772\n",
       "race_AfricanAmerican                    0.267387\n",
       "gender_Female                           0.249826\n",
       "diag_2_cat_410                          0.232733\n",
       "Name: 1, dtype: float64"
      ]
     },
     "execution_count": 337,
     "metadata": {},
     "output_type": "execute_result"
    }
   ],
   "source": [
    "imp_df = pd.DataFrame(item for item in zip(features,forest_clf.feature_importances_))\n",
    "imp_df = imp_df.set_index(0)\n",
    "imp_df[1].sort_values(ascending=False)[:50] *100"
   ]
  },
  {
   "cell_type": "code",
   "execution_count": null,
   "metadata": {},
   "outputs": [],
   "source": []
  },
  {
   "cell_type": "code",
   "execution_count": null,
   "metadata": {},
   "outputs": [],
   "source": []
  }
 ],
 "metadata": {
  "kernelspec": {
   "display_name": "Python 3 (ipykernel)",
   "language": "python",
   "name": "python3"
  },
  "language_info": {
   "codemirror_mode": {
    "name": "ipython",
    "version": 3
   },
   "file_extension": ".py",
   "mimetype": "text/x-python",
   "name": "python",
   "nbconvert_exporter": "python",
   "pygments_lexer": "ipython3",
   "version": "3.7.11"
  }
 },
 "nbformat": 4,
 "nbformat_minor": 4
}
